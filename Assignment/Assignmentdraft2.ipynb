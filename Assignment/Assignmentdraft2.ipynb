{
 "cells": [
  {
   "cell_type": "code",
   "execution_count": 1,
   "metadata": {
    "pycharm": {}
   },
   "outputs": [],
   "source": [
    "import sqlite3\n",
    "import pandas as pd\n",
    "import numpy as np\n",
    "# import relevant library"
   ]
  },
  {
   "cell_type": "code",
   "execution_count": 2,
   "metadata": {
    "pycharm": {
     "metadata": false,
     "name": "#%%\n"
    }
   },
   "outputs": [
    {
     "data": {
      "text/html": [
       "<div>\n",
       "<style scoped>\n",
       "    .dataframe tbody tr th:only-of-type {\n",
       "        vertical-align: middle;\n",
       "    }\n",
       "\n",
       "    .dataframe tbody tr th {\n",
       "        vertical-align: top;\n",
       "    }\n",
       "\n",
       "    .dataframe thead th {\n",
       "        text-align: right;\n",
       "    }\n",
       "</style>\n",
       "<table border=\"1\" class=\"dataframe\">\n",
       "  <thead>\n",
       "    <tr style=\"text-align: right;\">\n",
       "      <th></th>\n",
       "      <th>Order</th>\n",
       "      <th>PID</th>\n",
       "      <th>MS SubClass</th>\n",
       "      <th>MS Zoning</th>\n",
       "      <th>Lot Frontage</th>\n",
       "      <th>Lot Area</th>\n",
       "      <th>Street</th>\n",
       "      <th>Alley</th>\n",
       "      <th>Lot Shape</th>\n",
       "      <th>Land Contour</th>\n",
       "      <th>...</th>\n",
       "      <th>Pool Area</th>\n",
       "      <th>Pool QC</th>\n",
       "      <th>Fence</th>\n",
       "      <th>Misc Feature</th>\n",
       "      <th>Misc Val</th>\n",
       "      <th>Mo Sold</th>\n",
       "      <th>Yr Sold</th>\n",
       "      <th>Sale Type</th>\n",
       "      <th>Sale Condition</th>\n",
       "      <th>SalePrice</th>\n",
       "    </tr>\n",
       "  </thead>\n",
       "  <tbody>\n",
       "    <tr>\n",
       "      <th>0</th>\n",
       "      <td>2217</td>\n",
       "      <td>909279080</td>\n",
       "      <td>50</td>\n",
       "      <td>RL</td>\n",
       "      <td>NaN</td>\n",
       "      <td>11275</td>\n",
       "      <td>Pave</td>\n",
       "      <td>None</td>\n",
       "      <td>IR1</td>\n",
       "      <td>HLS</td>\n",
       "      <td>...</td>\n",
       "      <td>0</td>\n",
       "      <td>None</td>\n",
       "      <td>None</td>\n",
       "      <td>None</td>\n",
       "      <td>0</td>\n",
       "      <td>3</td>\n",
       "      <td>2007</td>\n",
       "      <td>WD</td>\n",
       "      <td>Normal</td>\n",
       "      <td>220000</td>\n",
       "    </tr>\n",
       "    <tr>\n",
       "      <th>1</th>\n",
       "      <td>837</td>\n",
       "      <td>907126050</td>\n",
       "      <td>20</td>\n",
       "      <td>RL</td>\n",
       "      <td>65.0</td>\n",
       "      <td>9757</td>\n",
       "      <td>Pave</td>\n",
       "      <td>None</td>\n",
       "      <td>Reg</td>\n",
       "      <td>Low</td>\n",
       "      <td>...</td>\n",
       "      <td>0</td>\n",
       "      <td>None</td>\n",
       "      <td>None</td>\n",
       "      <td>None</td>\n",
       "      <td>0</td>\n",
       "      <td>10</td>\n",
       "      <td>2009</td>\n",
       "      <td>WD</td>\n",
       "      <td>Normal</td>\n",
       "      <td>143000</td>\n",
       "    </tr>\n",
       "    <tr>\n",
       "      <th>2</th>\n",
       "      <td>2397</td>\n",
       "      <td>528144030</td>\n",
       "      <td>60</td>\n",
       "      <td>RL</td>\n",
       "      <td>86.0</td>\n",
       "      <td>11065</td>\n",
       "      <td>Pave</td>\n",
       "      <td>None</td>\n",
       "      <td>IR1</td>\n",
       "      <td>Lvl</td>\n",
       "      <td>...</td>\n",
       "      <td>0</td>\n",
       "      <td>None</td>\n",
       "      <td>None</td>\n",
       "      <td>None</td>\n",
       "      <td>0</td>\n",
       "      <td>10</td>\n",
       "      <td>2006</td>\n",
       "      <td>New</td>\n",
       "      <td>Partial</td>\n",
       "      <td>281000</td>\n",
       "    </tr>\n",
       "    <tr>\n",
       "      <th>3</th>\n",
       "      <td>1963</td>\n",
       "      <td>535452060</td>\n",
       "      <td>20</td>\n",
       "      <td>RL</td>\n",
       "      <td>70.0</td>\n",
       "      <td>7000</td>\n",
       "      <td>Pave</td>\n",
       "      <td>None</td>\n",
       "      <td>Reg</td>\n",
       "      <td>Lvl</td>\n",
       "      <td>...</td>\n",
       "      <td>0</td>\n",
       "      <td>None</td>\n",
       "      <td>MnWw</td>\n",
       "      <td>None</td>\n",
       "      <td>0</td>\n",
       "      <td>4</td>\n",
       "      <td>2007</td>\n",
       "      <td>WD</td>\n",
       "      <td>Family</td>\n",
       "      <td>135000</td>\n",
       "    </tr>\n",
       "    <tr>\n",
       "      <th>4</th>\n",
       "      <td>306</td>\n",
       "      <td>911202100</td>\n",
       "      <td>50</td>\n",
       "      <td>C (all)</td>\n",
       "      <td>66.0</td>\n",
       "      <td>8712</td>\n",
       "      <td>Pave</td>\n",
       "      <td>Pave</td>\n",
       "      <td>Reg</td>\n",
       "      <td>HLS</td>\n",
       "      <td>...</td>\n",
       "      <td>0</td>\n",
       "      <td>None</td>\n",
       "      <td>None</td>\n",
       "      <td>None</td>\n",
       "      <td>0</td>\n",
       "      <td>1</td>\n",
       "      <td>2010</td>\n",
       "      <td>WD</td>\n",
       "      <td>Abnorml</td>\n",
       "      <td>102776</td>\n",
       "    </tr>\n",
       "  </tbody>\n",
       "</table>\n",
       "<p>5 rows × 81 columns</p>\n",
       "</div>"
      ],
      "text/plain": [
       "   Order        PID  MS SubClass MS Zoning  Lot Frontage  Lot Area Street  \\\n",
       "0   2217  909279080           50        RL           NaN     11275   Pave   \n",
       "1    837  907126050           20        RL          65.0      9757   Pave   \n",
       "2   2397  528144030           60        RL          86.0     11065   Pave   \n",
       "3   1963  535452060           20        RL          70.0      7000   Pave   \n",
       "4    306  911202100           50   C (all)          66.0      8712   Pave   \n",
       "\n",
       "  Alley Lot Shape Land Contour  ... Pool Area Pool QC Fence Misc Feature  \\\n",
       "0  None       IR1          HLS  ...         0    None  None         None   \n",
       "1  None       Reg          Low  ...         0    None  None         None   \n",
       "2  None       IR1          Lvl  ...         0    None  None         None   \n",
       "3  None       Reg          Lvl  ...         0    None  MnWw         None   \n",
       "4  Pave       Reg          HLS  ...         0    None  None         None   \n",
       "\n",
       "  Misc Val Mo Sold Yr Sold Sale Type  Sale Condition  SalePrice  \n",
       "0        0       3    2007       WD           Normal     220000  \n",
       "1        0      10    2009       WD           Normal     143000  \n",
       "2        0      10    2006       New         Partial     281000  \n",
       "3        0       4    2007       WD           Family     135000  \n",
       "4        0       1    2010       WD          Abnorml     102776  \n",
       "\n",
       "[5 rows x 81 columns]"
      ]
     },
     "execution_count": 2,
     "metadata": {},
     "output_type": "execute_result"
    }
   ],
   "source": [
    "housing_database_connect = sqlite3.connect(\"housing.db\")\n",
    "housing_df = pd.read_sql(\"SELECT * FROM houses\",housing_database_connect)\n",
    "housing_df.head()  #make connection with database"
   ]
  },
  {
   "cell_type": "code",
   "execution_count": 3,
   "metadata": {
    "pycharm": {
     "metadata": false,
     "name": "#%%\n"
    }
   },
   "outputs": [],
   "source": [
    "normal_df = housing_df[housing_df['Sale Condition']=='Normal']\n",
    "# select Sales data under normal condition\n",
    "column_names = ['Year Built','Gr Liv Area','Total Bsmt SF','SalePrice']\n",
    "# select target column\n",
    "subset = normal_df[column_names]\n",
    "subset_df = pd.DataFrame(subset)\n",
    "subset_df_clean = subset_df.dropna()\n",
    "# clean out irrelevent data display\n",
    "house_age = 2010 - subset_df_clean['Year Built']\n",
    "# calculate house age\n",
    "subset_df_clean['Age'] = house_age"
   ]
  },
  {
   "cell_type": "code",
   "execution_count": 4,
   "metadata": {
    "pycharm": {
     "name": "#%%\n"
    }
   },
   "outputs": [
    {
     "data": {
      "text/plain": [
       "Age              0.520716\n",
       "Year Built       0.520716\n",
       "Total Bsmt SF    0.635165\n",
       "Gr Liv Area      0.740554\n",
       "SalePrice        1.000000\n",
       "Name: SalePrice, dtype: float64"
      ]
     },
     "execution_count": 4,
     "metadata": {},
     "output_type": "execute_result"
    }
   ],
   "source": [
    "price_correlation = subset_df_clean.corr()['SalePrice'].abs().sort_values()\n",
    "price_correlation\n",
    "# figure out correlation of the variables"
   ]
  },
  {
   "cell_type": "code",
   "execution_count": 5,
   "metadata": {
    "pycharm": {
     "metadata": false,
     "name": "#%%\n"
    }
   },
   "outputs": [
    {
     "data": {
      "image/png": "[encoded data removed]",
      "text/plain": [
       "<Figure size 432x288 with 1 Axes>"
      ]
     },
     "metadata": {
      "needs_background": "light"
     },
     "output_type": "display_data"
    }
   ],
   "source": [
    "%matplotlib inline\n",
    "import matplotlib.pyplot as plt\n",
    "y = subset_df_clean['SalePrice']\n",
    "x = subset_df_clean['Total Bsmt SF']\n",
    "fig = plt.figure()\n",
    "plt.scatter(x,y,alpha=0.2)\n",
    "plt.show()\n",
    "# shows the relationship between SalesPrice and total basement size on plot"
   ]
  },
  {
   "cell_type": "code",
   "execution_count": 6,
   "metadata": {},
   "outputs": [
    {
     "data": {
      "image/png": "[encoded data removed]",
      "text/plain": [
       "<Figure size 432x288 with 1 Axes>"
      ]
     },
     "metadata": {
      "needs_background": "light"
     },
     "output_type": "display_data"
    }
   ],
   "source": [
    "%matplotlib inline\n",
    "import matplotlib.pyplot as plt\n",
    "y = subset_df_clean['SalePrice']\n",
    "x = subset_df_clean['Gr Liv Area']\n",
    "fig = plt.figure()\n",
    "plt.scatter(x,y,alpha=0.2)\n",
    "plt.show()\n",
    "# shows the relationship between SalesPrice and living area on plot"
   ]
  },
  {
   "cell_type": "markdown",
   "metadata": {},
   "source": [
    "# Question 2"
   ]
  },
  {
   "cell_type": "code",
   "execution_count": 7,
   "metadata": {
    "pycharm": {
     "metadata": false,
     "name": "#%%\n"
    }
   },
   "outputs": [
    {
     "name": "stdout",
     "output_type": "stream",
     "text": [
      "                            OLS Regression Results                            \n",
      "==============================================================================\n",
      "Dep. Variable:              SalePrice   R-squared:                       0.955\n",
      "Model:                            OLS   Adj. R-squared:                  0.955\n",
      "Method:                 Least Squares   F-statistic:                 2.035e+04\n",
      "Date:                Mon, 15 Apr 2019   Prob (F-statistic):               0.00\n",
      "Time:                        16:38:11   Log-Likelihood:                -23183.\n",
      "No. Observations:                1928   AIC:                         4.637e+04\n",
      "Df Residuals:                    1926   BIC:                         4.638e+04\n",
      "Df Model:                           2                                         \n",
      "Covariance Type:            nonrobust                                         \n",
      "=================================================================================\n",
      "                    coef    std err          t      P>|t|      [0.025      0.975]\n",
      "---------------------------------------------------------------------------------\n",
      "Gr Liv Area      76.0048      1.592     47.737      0.000      72.882      79.127\n",
      "Total Bsmt SF    63.9637      2.257     28.338      0.000      59.537      68.390\n",
      "==============================================================================\n",
      "Omnibus:                      385.456   Durbin-Watson:                   1.998\n",
      "Prob(Omnibus):                  0.000   Jarque-Bera (JB):             2347.097\n",
      "Skew:                           0.795   Prob(JB):                         0.00\n",
      "Kurtosis:                       8.166   Cond. No.                         5.55\n",
      "==============================================================================\n",
      "\n",
      "Warnings:\n",
      "[1] Standard Errors assume that the covariance matrix of the errors is correctly specified.\n"
     ]
    }
   ],
   "source": [
    "# Question 2\n",
    "import statsmodels.api as sm\n",
    "y = subset_df_clean['SalePrice']\n",
    "x = subset_df_clean[['Gr Liv Area','Total Bsmt SF']]\n",
    "model1 = sm.OLS(y, x)\n",
    "results1 = model1.fit()\n",
    "print(results1.summary())\n",
    "# "
   ]
  },
  {
   "cell_type": "code",
   "execution_count": 8,
   "metadata": {},
   "outputs": [
    {
     "name": "stdout",
     "output_type": "stream",
     "text": [
      "                            OLS Regression Results                            \n",
      "==============================================================================\n",
      "Dep. Variable:              SalePrice   R-squared:                       0.687\n",
      "Model:                            OLS   Adj. R-squared:                  0.687\n",
      "Method:                 Least Squares   F-statistic:                     2117.\n",
      "Date:                Mon, 15 Apr 2019   Prob (F-statistic):               0.00\n",
      "Time:                        16:38:11   Log-Likelihood:                -23156.\n",
      "No. Observations:                1928   AIC:                         4.632e+04\n",
      "Df Residuals:                    1925   BIC:                         4.634e+04\n",
      "Df Model:                           2                                         \n",
      "Covariance Type:            nonrobust                                         \n",
      "=================================================================================\n",
      "                    coef    std err          t      P>|t|      [0.025      0.975]\n",
      "---------------------------------------------------------------------------------\n",
      "const         -2.348e+04   3198.698     -7.342      0.000   -2.98e+04   -1.72e+04\n",
      "Gr Liv Area      85.6549      2.048     41.821      0.000      81.638      89.672\n",
      "Total Bsmt SF    71.1174      2.431     29.259      0.000      66.350      75.884\n",
      "==============================================================================\n",
      "Omnibus:                      205.378   Durbin-Watson:                   2.007\n",
      "Prob(Omnibus):                  0.000   Jarque-Bera (JB):             1303.705\n",
      "Skew:                           0.271   Prob(JB):                    8.02e-284\n",
      "Kurtosis:                       6.992   Cond. No.                     6.61e+03\n",
      "==============================================================================\n",
      "\n",
      "Warnings:\n",
      "[1] Standard Errors assume that the covariance matrix of the errors is correctly specified.\n",
      "[2] The condition number is large, 6.61e+03. This might indicate that there are\n",
      "strong multicollinearity or other numerical problems.\n"
     ]
    },
    {
     "name": "stderr",
     "output_type": "stream",
     "text": [
      "/Library/Frameworks/Python.framework/Versions/3.7/lib/python3.7/site-packages/numpy/core/fromnumeric.py:2389: FutureWarning: Method .ptp is deprecated and will be removed in a future version. Use numpy.ptp instead.\n",
      "  return ptp(axis=axis, out=out, **kwargs)\n"
     ]
    }
   ],
   "source": [
    "# model with intercept\n",
    "\n",
    "import statsmodels.api as sm\n",
    "\n",
    "x_with_intercept = sm.add_constant(x, prepend=True)\n",
    "\n",
    "x_with_intercept.head()\n",
    "\n",
    "model = sm.OLS(y, x_with_intercept)\n",
    "\n",
    "results2 = model.fit()\n",
    "\n",
    "print(results2.summary())"
   ]
  },
  {
   "cell_type": "code",
   "execution_count": 9,
   "metadata": {},
   "outputs": [
    {
     "name": "stdout",
     "output_type": "stream",
     "text": [
      "40353.738\n"
     ]
    }
   ],
   "source": [
    "# Question 2 C  for model 1  RMS\n",
    "\n",
    "from sklearn.metrics import mean_squared_error\n",
    "from math import sqrt\n",
    "\n",
    "\n",
    "y_predicted1 = results1.predict(x) #predict y\n",
    "\n",
    "\n",
    "rms = sqrt(mean_squared_error(y, y_predicted1))\n",
    "print(round(rms,3))"
   ]
  },
  {
   "cell_type": "code",
   "execution_count": 10,
   "metadata": {
    "scrolled": true
   },
   "outputs": [
    {
     "name": "stdout",
     "output_type": "stream",
     "text": [
      "39800.385\n"
     ]
    }
   ],
   "source": [
    "# C for model 2 RMS\n",
    "y_predicted2 = results2.predict(x_with_intercept) #predict y\n",
    "\n",
    "rms = sqrt(mean_squared_error(y, y_predicted2))\n",
    "print(round(rms,3))"
   ]
  },
  {
   "cell_type": "code",
   "execution_count": 11,
   "metadata": {},
   "outputs": [
    {
     "name": "stdout",
     "output_type": "stream",
     "text": [
      "0.679\n",
      "0.687\n"
     ]
    }
   ],
   "source": [
    "# C for model 1 R squared\n",
    "from sklearn.metrics import r2_score\n",
    "r2 = r2_score(y, y_predicted1)\n",
    "print(round(r2,3))\n",
    "# C for model 1 R squared\n",
    "r2 = r2_score(y, y_predicted2)\n",
    "print(round(r2,3))"
   ]
  },
  {
   "cell_type": "markdown",
   "metadata": {},
   "source": [
    "# Question 2 D"
   ]
  },
  {
   "cell_type": "code",
   "execution_count": 12,
   "metadata": {},
   "outputs": [
    {
     "data": {
      "image/png": "[encoded data removed]",
      "text/plain": [
       "<Figure size 432x288 with 1 Axes>"
      ]
     },
     "metadata": {
      "needs_background": "light"
     },
     "output_type": "display_data"
    }
   ],
   "source": [
    "fitted_values = y_predicted2\n",
    "residual1 = y_predicted2 - y\n",
    "plt.scatter(fitted_values,residual1, alpha = 0.1)\n",
    "plt.xlabel(\"Fitted Values\")\n",
    "plt.ylabel(\"Residuals\")\n",
    "plt.title(\"Fitted values against residuals\")\n",
    "plt.show()"
   ]
  },
  {
   "cell_type": "code",
   "execution_count": 13,
   "metadata": {},
   "outputs": [
    {
     "data": {
      "image/png": "[encoded data removed]",
      "text/plain": [
       "<Figure size 432x288 with 1 Axes>"
      ]
     },
     "metadata": {
      "needs_background": "light"
     },
     "output_type": "display_data"
    }
   ],
   "source": [
    "fitted_values = y_predicted2\n",
    "residual1 = y_predicted2 - y\n",
    "residual2 = residual1**2        \n",
    "# square redsiduals\n",
    "plt.scatter(fitted_values,residual2, alpha = 0.1)\n",
    "plt.xlabel(\"Fitted Values\")\n",
    "plt.ylabel(\"Squared residuals\")\n",
    "plt.title(\"Fitted values against square residuals\")\n",
    "plt.show()"
   ]
  },
  {
   "cell_type": "markdown",
   "metadata": {},
   "source": [
    "# Question 3"
   ]
  },
  {
   "cell_type": "code",
   "execution_count": 14,
   "metadata": {},
   "outputs": [
    {
     "data": {
      "text/html": [
       "<div>\n",
       "<style scoped>\n",
       "    .dataframe tbody tr th:only-of-type {\n",
       "        vertical-align: middle;\n",
       "    }\n",
       "\n",
       "    .dataframe tbody tr th {\n",
       "        vertical-align: top;\n",
       "    }\n",
       "\n",
       "    .dataframe thead th {\n",
       "        text-align: right;\n",
       "    }\n",
       "</style>\n",
       "<table border=\"1\" class=\"dataframe\">\n",
       "  <thead>\n",
       "    <tr style=\"text-align: right;\">\n",
       "      <th></th>\n",
       "      <th>Year Built</th>\n",
       "      <th>Gr Liv Area</th>\n",
       "      <th>Total Bsmt SF</th>\n",
       "      <th>SalePrice</th>\n",
       "      <th>Garage Area</th>\n",
       "      <th>Central Air</th>\n",
       "      <th>Age</th>\n",
       "    </tr>\n",
       "  </thead>\n",
       "  <tbody>\n",
       "    <tr>\n",
       "      <th>0</th>\n",
       "      <td>1932</td>\n",
       "      <td>1991</td>\n",
       "      <td>854.0</td>\n",
       "      <td>220000</td>\n",
       "      <td>432.0</td>\n",
       "      <td>Y</td>\n",
       "      <td>78</td>\n",
       "    </tr>\n",
       "    <tr>\n",
       "      <th>1</th>\n",
       "      <td>1994</td>\n",
       "      <td>990</td>\n",
       "      <td>990.0</td>\n",
       "      <td>143000</td>\n",
       "      <td>440.0</td>\n",
       "      <td>Y</td>\n",
       "      <td>16</td>\n",
       "    </tr>\n",
       "    <tr>\n",
       "      <th>5</th>\n",
       "      <td>1995</td>\n",
       "      <td>1609</td>\n",
       "      <td>754.0</td>\n",
       "      <td>182000</td>\n",
       "      <td>525.0</td>\n",
       "      <td>Y</td>\n",
       "      <td>15</td>\n",
       "    </tr>\n",
       "    <tr>\n",
       "      <th>7</th>\n",
       "      <td>1971</td>\n",
       "      <td>981</td>\n",
       "      <td>981.0</td>\n",
       "      <td>143250</td>\n",
       "      <td>576.0</td>\n",
       "      <td>Y</td>\n",
       "      <td>39</td>\n",
       "    </tr>\n",
       "    <tr>\n",
       "      <th>8</th>\n",
       "      <td>1959</td>\n",
       "      <td>1466</td>\n",
       "      <td>1466.0</td>\n",
       "      <td>149900</td>\n",
       "      <td>528.0</td>\n",
       "      <td>Y</td>\n",
       "      <td>51</td>\n",
       "    </tr>\n",
       "  </tbody>\n",
       "</table>\n",
       "</div>"
      ],
      "text/plain": [
       "   Year Built  Gr Liv Area  Total Bsmt SF  SalePrice  Garage Area Central Air  \\\n",
       "0        1932         1991          854.0     220000        432.0           Y   \n",
       "1        1994          990          990.0     143000        440.0           Y   \n",
       "5        1995         1609          754.0     182000        525.0           Y   \n",
       "7        1971          981          981.0     143250        576.0           Y   \n",
       "8        1959         1466         1466.0     149900        528.0           Y   \n",
       "\n",
       "   Age  \n",
       "0   78  \n",
       "1   16  \n",
       "5   15  \n",
       "7   39  \n",
       "8   51  "
      ]
     },
     "execution_count": 14,
     "metadata": {},
     "output_type": "execute_result"
    }
   ],
   "source": [
    "normal_df = housing_df[housing_df['Sale Condition']=='Normal']\n",
    "# select Sales data under normal condition\n",
    "column_names = ['Year Built','Gr Liv Area','Total Bsmt SF','SalePrice','Garage Area','Central Air']\n",
    "# select target column\n",
    "subset = normal_df[column_names]\n",
    "subset_df = pd.DataFrame(subset)\n",
    "subset_df_clean1 = subset_df.dropna()\n",
    "# clean out irrelevent data display\n",
    "house_age = 2010 - subset_df_clean['Year Built']\n",
    "# calculate house age\n",
    "subset_df_clean1['Age'] = house_age\n",
    "subset_df_clean1.head()"
   ]
  },
  {
   "cell_type": "code",
   "execution_count": 15,
   "metadata": {},
   "outputs": [
    {
     "ename": "NameError",
     "evalue": "name 'cnm' is not defined",
     "output_type": "error",
     "traceback": [
      "\u001b[0;31m---------------------------------------------------------------------------\u001b[0m",
      "\u001b[0;31mNameError\u001b[0m                                 Traceback (most recent call last)",
      "\u001b[0;32m<ipython-input-15-3ca538ca7eef>\u001b[0m in \u001b[0;36m<module>\u001b[0;34m\u001b[0m\n\u001b[1;32m      1\u001b[0m model007 = pd.get_dummies(subset_df_clean1,columns = ['Central Air'],\n\u001b[1;32m      2\u001b[0m     drop_first = True)\n\u001b[0;32m----> 3\u001b[0;31m \u001b[0mcnm\u001b[0m\u001b[0;34m.\u001b[0m\u001b[0mhead\u001b[0m\u001b[0;34m(\u001b[0m\u001b[0;34m)\u001b[0m\u001b[0;34m\u001b[0m\u001b[0;34m\u001b[0m\u001b[0m\n\u001b[0m\u001b[1;32m      4\u001b[0m \u001b[0;31m# get dummy variable\u001b[0m\u001b[0;34m\u001b[0m\u001b[0;34m\u001b[0m\u001b[0;34m\u001b[0m\u001b[0m\n",
      "\u001b[0;31mNameError\u001b[0m: name 'cnm' is not defined"
     ]
    }
   ],
   "source": [
    "model007 = pd.get_dummies(subset_df_clean1,columns = ['Central Air'],\n",
    "    drop_first = True)\n",
    "cnm.head()\n",
    "# get dummy variable"
   ]
  },
  {
   "cell_type": "code",
   "execution_count": 16,
   "metadata": {},
   "outputs": [
    {
     "name": "stdout",
     "output_type": "stream",
     "text": [
      "                            OLS Regression Results                            \n",
      "==============================================================================\n",
      "Dep. Variable:              SalePrice   R-squared:                       0.968\n",
      "Model:                            OLS   Adj. R-squared:                  0.968\n",
      "Method:                 Least Squares   F-statistic:                 1.158e+04\n",
      "Date:                Mon, 15 Apr 2019   Prob (F-statistic):               0.00\n",
      "Time:                        16:38:57   Log-Likelihood:                -22854.\n",
      "No. Observations:                1928   AIC:                         4.572e+04\n",
      "Df Residuals:                    1923   BIC:                         4.575e+04\n",
      "Df Model:                           5                                         \n",
      "Covariance Type:            nonrobust                                         \n",
      "=================================================================================\n",
      "                    coef    std err          t      P>|t|      [0.025      0.975]\n",
      "---------------------------------------------------------------------------------\n",
      "Age            -540.4697     24.029    -22.493      0.000    -587.595    -493.345\n",
      "Gr Liv Area      76.9560      1.794     42.903      0.000      73.438      80.474\n",
      "Total Bsmt SF    49.3087      2.191     22.502      0.000      45.011      53.606\n",
      "Garage Area      51.3561      4.839     10.614      0.000      41.867      60.846\n",
      "Central Air_Y  1.021e+04   2573.292      3.969      0.000    5166.900    1.53e+04\n",
      "==============================================================================\n",
      "Omnibus:                      516.413   Durbin-Watson:                   2.016\n",
      "Prob(Omnibus):                  0.000   Jarque-Bera (JB):             4409.176\n",
      "Skew:                           1.011   Prob(JB):                         0.00\n",
      "Kurtosis:                      10.127   Cond. No.                     6.42e+03\n",
      "==============================================================================\n",
      "\n",
      "Warnings:\n",
      "[1] Standard Errors assume that the covariance matrix of the errors is correctly specified.\n",
      "[2] The condition number is large, 6.42e+03. This might indicate that there are\n",
      "strong multicollinearity or other numerical problems.\n"
     ]
    }
   ],
   "source": [
    "import statsmodels.api as sm\n",
    "\n",
    "y = model007['SalePrice']\n",
    "x = model007[['Age','Gr Liv Area','Total Bsmt SF','Garage Area','Central Air_Y']]\n",
    "model13 = sm.OLS(y, x)\n",
    "results13 = model13.fit()\n",
    "print(results13.summary())\n",
    "# analyize model with dummy"
   ]
  },
  {
   "cell_type": "code",
   "execution_count": 17,
   "metadata": {},
   "outputs": [
    {
     "ename": "NameError",
     "evalue": "name 'cnm' is not defined",
     "output_type": "error",
     "traceback": [
      "\u001b[0;31m---------------------------------------------------------------------------\u001b[0m",
      "\u001b[0;31mNameError\u001b[0m                                 Traceback (most recent call last)",
      "\u001b[0;32m<ipython-input-17-a4ea0405a8b5>\u001b[0m in \u001b[0;36m<module>\u001b[0;34m\u001b[0m\n\u001b[1;32m      4\u001b[0m \u001b[0mscale_result_list\u001b[0m \u001b[0;34m=\u001b[0m \u001b[0;34m[\u001b[0m\u001b[0;34m'age1'\u001b[0m\u001b[0;34m,\u001b[0m\u001b[0;34m'liv1'\u001b[0m\u001b[0;34m,\u001b[0m\u001b[0;34m'bsmt1'\u001b[0m\u001b[0;34m,\u001b[0m\u001b[0;34m'garage1'\u001b[0m\u001b[0;34m,\u001b[0m\u001b[0;34m'air1'\u001b[0m\u001b[0;34m,\u001b[0m\u001b[0;34m'saleprice1'\u001b[0m\u001b[0;34m]\u001b[0m\u001b[0;34m\u001b[0m\u001b[0;34m\u001b[0m\u001b[0m\n\u001b[1;32m      5\u001b[0m \u001b[0;32mfor\u001b[0m \u001b[0mitem\u001b[0m \u001b[0;32min\u001b[0m \u001b[0mrange\u001b[0m\u001b[0;34m(\u001b[0m\u001b[0mlen\u001b[0m\u001b[0;34m(\u001b[0m\u001b[0morigin_list\u001b[0m\u001b[0;34m)\u001b[0m\u001b[0;34m)\u001b[0m\u001b[0;34m:\u001b[0m\u001b[0;34m\u001b[0m\u001b[0;34m\u001b[0m\u001b[0m\n\u001b[0;32m----> 6\u001b[0;31m     \u001b[0mmodel007\u001b[0m\u001b[0;34m[\u001b[0m\u001b[0mscale_result_list\u001b[0m\u001b[0;34m[\u001b[0m\u001b[0mitem\u001b[0m\u001b[0;34m]\u001b[0m\u001b[0;34m]\u001b[0m \u001b[0;34m=\u001b[0m \u001b[0mscale\u001b[0m\u001b[0;34m(\u001b[0m\u001b[0mcnm\u001b[0m\u001b[0;34m[\u001b[0m\u001b[0morigin_list\u001b[0m\u001b[0;34m[\u001b[0m\u001b[0mitem\u001b[0m\u001b[0;34m]\u001b[0m\u001b[0;34m]\u001b[0m\u001b[0;34m)\u001b[0m\u001b[0;34m\u001b[0m\u001b[0;34m\u001b[0m\u001b[0m\n\u001b[0m",
      "\u001b[0;31mNameError\u001b[0m: name 'cnm' is not defined"
     ]
    }
   ],
   "source": [
    "from sklearn import preprocessing\n",
    "from sklearn.preprocessing import scale\n",
    "origin_list = ['Age','Gr Liv Area','Total Bsmt SF','Garage Area','Central Air_Y','SalePrice']\n",
    "scale_result_list = ['age1','liv1','bsmt1','garage1','air1','saleprice1']\n",
    "for item in range(len(origin_list)):\n",
    "    model007[scale_result_list[item]] = scale(cnm[origin_list[item]])"
   ]
  },
  {
   "cell_type": "code",
   "execution_count": 99,
   "metadata": {},
   "outputs": [
    {
     "name": "stdout",
     "output_type": "stream",
     "text": [
      "[-4.80544761e-01 -2.46919504e+00 -2.75542202e+00  6.90679904e-01\n",
      " -5.75795148e-01 -1.49109980e+00 -1.31950894e+00  4.71096821e-01\n",
      " -8.28805470e-02 -4.54377551e-02  1.65797623e-01 -1.62439656e+00\n",
      " -1.62439656e+00  6.51184930e-01 -4.04048745e-01  4.26256845e-01\n",
      "  1.34789165e+00 -3.13582674e-01 -1.49109980e+00  5.67182975e-01\n",
      " -1.21780021e-01 -2.18260567e+00 -3.24781254e+00 -1.04540423e+00\n",
      " -6.40289822e-01  6.01635036e-01 -3.13582674e-01  4.21660249e-01\n",
      " -2.07632767e+00 -1.55552882e+00  7.04663572e-01  3.86495318e-01\n",
      " -1.54027188e-01  1.59829332e-01 -6.02470649e-02 -3.60971811e+00\n",
      " -3.13582674e-01  1.16991589e-02 -2.65064328e+00 -2.87247830e+00\n",
      " -1.86504687e+00 -3.72975115e-01 -2.55580936e+00  7.21872582e-01\n",
      " -3.37902311e-01 -1.69836016e+00 -1.46949579e+00 -2.06518714e+00\n",
      "  1.65797623e-01 -7.90254117e+00 -8.30496467e-01  1.05780586e+00\n",
      "  1.03182303e-01 -9.68521111e-01  1.62638440e+00 -9.68521111e-01\n",
      " -2.30626057e-01 -1.37349930e+00 -3.55910836e+00 -1.04540423e+00\n",
      " -1.04540423e+00 -4.80544761e-01  3.90904521e-01 -2.18260567e+00\n",
      " -1.13878130e-01 -1.77823447e+00 -4.36118997e-01  7.52121636e-01\n",
      "  4.26256845e-01 -6.01096091e-01 -9.87194865e-01  1.38373440e+00\n",
      " -1.86504687e+00  3.90882546e-02 -2.65064328e+00  2.40308172e-01\n",
      " -3.52783147e-01  7.04663572e-01 -1.21955727e+00 -2.06518714e+00\n",
      " -7.53001556e-01  6.57471430e-02 -1.69836016e+00 -1.27832189e+00\n",
      " -3.52783147e-01  3.90882546e-02  1.95116183e-01 -2.75861087e-01\n",
      " -1.43057181e+00  1.27210538e+00  2.34536315e-01  5.63191793e-01\n",
      " -1.37349930e+00 -4.36118997e-01  4.98773946e-01 -4.80771924e-01\n",
      " -3.72975115e-01  5.53547456e-01 -1.95855863e-01  1.01546387e+00\n",
      " -8.14509594e-01  1.04448506e-01  3.69652017e-01  2.78242276e-01\n",
      " -1.49109980e+00 -1.49109980e+00 -1.31950894e+00  9.17137507e-02\n",
      "  2.00878139e-01 -1.21955727e+00 -9.72228069e-01 -2.46919504e+00\n",
      " -5.07339277e-01 -1.85601854e+00 -6.81082587e-01 -1.08618239e+00\n",
      "  8.03737231e-01 -4.80544761e-01  2.72910427e-01  1.04306549e+00\n",
      "  7.97429109e-01 -4.23934736e+00 -3.84246917e+00 -4.80544761e-01\n",
      " -1.69836016e+00  5.25065332e-02 -2.75861087e-01  6.69330781e-01\n",
      "  3.22959273e-01 -4.90716754e+00 -1.50682208e+00  3.74493407e-01\n",
      " -1.62439656e+00 -1.62439656e+00  4.35387134e-01 -6.67299275e-01\n",
      " -1.21955727e+00 -1.62439656e+00  6.69330781e-01 -1.06038190e-01\n",
      " -1.43057181e+00 -9.32188255e-01 -6.67299275e-01 -2.89762847e+00\n",
      "  5.05575171e-01 -1.49109980e+00 -6.81082587e-01 -1.69836016e+00\n",
      " -3.32990838e-01  1.84174899e+00  7.58721173e-01  4.03059616e-01\n",
      "  1.06509536e+00 -5.11788414e+00 -1.69836016e+00  1.02810458e+00\n",
      "  5.18145551e-01 -1.70549300e-01 -1.07601269e-01  3.30053203e-01\n",
      " -1.43057181e+00 -3.19158491e+00 -2.06518714e+00 -1.58593384e+00\n",
      "  1.00266132e+00 -1.08618239e+00 -2.24692556e+00 -4.58085194e-01\n",
      " -2.75861087e-01 -4.91966584e-01 -1.96011832e+00 -6.53703363e-01\n",
      " -3.42838026e-01 -2.06518714e+00 -2.06518714e+00 -2.75861087e-01\n",
      " -1.00622397e+00 -3.55910836e+00 -1.78913865e-01  3.79311471e-01\n",
      " -2.04435729e-01 -8.14509594e-01 -2.17022365e+00 -1.15064787e+00\n",
      "  1.92570366e-01 -7.09232586e-01 -6.33649926e-01 -2.65064328e+00\n",
      "  3.30053203e-01  6.76497917e-01  3.90882546e-02  6.02404407e-01\n",
      "  1.20764881e-01 -2.87247830e+00  3.79311471e-01 -2.89762847e+00\n",
      " -1.77823447e+00 -7.98774285e-01  2.78242276e-01 -1.06038190e-01\n",
      " -1.21780021e-01 -1.97014214e+00  4.71096821e-01 -1.87348985e-01\n",
      " -7.83282745e-01 -9.32188255e-01 -2.87247830e+00 -2.89762847e+00\n",
      " -3.04018042e-01 -6.40556337e-01  4.71096821e-01 -1.26828483e+00\n",
      " -4.25314231e-01 -3.15798328e+00  1.86170810e-02  8.03737231e-01\n",
      " -3.75016918e-01 -2.06518714e+00 -2.06518714e+00 -1.98536881e+00\n",
      "  1.86170810e-02 -9.05403293e-02  8.40772483e-01  2.00878139e-01\n",
      "  3.30053203e-01 -4.80544761e-01  4.79828493e-01 -1.63155154e+00\n",
      " -8.33724742e-01 -1.26828483e+00  2.09601542e+00 -1.13304668e+00\n",
      " -2.06518714e+00  4.79828493e-01  1.65797623e-01 -5.75795148e-01\n",
      "  6.83614052e-01 -4.14624962e-01 -1.37349930e+00  5.63191793e-01\n",
      " -2.95487399e-01 -5.51118577e-01  6.69330781e-01 -1.29744849e-01\n",
      " -1.77823447e+00 -7.09232586e-01 -1.82069892e+00  6.02404407e-01\n",
      "  1.21124117e+00  4.71096821e-01 -7.68027536e-01  3.59898347e-01\n",
      " -1.24362428e+00  1.81922685e+00  7.92150255e-01  3.50048605e-01\n",
      "  2.62160678e-01 -5.51118577e-01 -6.01096091e-01 -4.80544761e-01\n",
      "  5.55161319e-01 -1.66069469e+00 -1.08618239e+00 -1.73750004e+00\n",
      " -1.62439656e+00 -6.40289822e-01 -1.49109980e+00  3.30053203e-01\n",
      "  1.05291650e+00 -3.04018042e-01 -4.25314231e-01 -2.27129385e-01\n",
      " -7.38198017e-01 -2.46919504e+00 -2.06518714e+00 -8.63258007e-01\n",
      " -1.87348985e-01 -4.36118997e-01 -2.06518714e+00 -2.12217401e+00\n",
      " -1.06038190e-01  5.30675562e-01 -3.42838026e-01 -2.66648903e-01\n",
      "  6.43833379e-01 -1.62439656e+00 -5.55099549e-01  7.32057606e-01\n",
      "  2.99289852e-01 -1.06038190e-01 -3.84246917e+00 -2.75861087e-01\n",
      " -1.54027188e-01 -7.90254117e+00  7.03969013e-01 -7.90254117e+00\n",
      " -2.07545814e-02 -2.07632767e+00  1.17023124e-01 -1.77823447e+00\n",
      " -1.34613980e+00  4.92784691e-01  2.88821438e-01 -6.95058537e-01\n",
      " -6.40289822e-01  3.59898347e-01 -4.23934736e+00  2.07178179e-01\n",
      "  3.54985603e-01  3.78349713e-01 -6.77347835e-02  1.65797623e-01\n",
      "  7.03969013e-01 -6.01096091e-01 -2.06518714e+00  8.93874057e-01\n",
      "  1.22164595e+00  1.16991589e-02 -3.19158491e+00 -6.01096091e-01\n",
      " -8.28805470e-02  7.04663572e-01 -2.89762847e+00 -2.18260567e+00\n",
      "  9.22200338e-01 -3.83226079e-01  5.55161319e-01  4.62288234e-01\n",
      " -1.31950894e+00 -1.87348985e-01 -1.37773625e-01 -1.13878130e-01\n",
      " -7.90254117e+00 -2.31566862e+00  1.08665036e+00 -8.97129327e-01\n",
      " -1.87348985e-01 -6.53703363e-01  4.17042426e-01 -1.86504687e+00\n",
      " -2.57868470e-02 -1.07601269e-01  6.69330781e-01  1.95116183e-01\n",
      " -1.02601406e+00 -6.27053826e-01  6.95946722e-01 -8.64924601e-01\n",
      "  1.03098129e-02  7.32057606e-01 -1.06558547e+00 -6.27053826e-01\n",
      " -2.39510846e-01 -2.87247830e+00 -1.08618239e+00 -7.68027536e-01\n",
      "  1.43519909e+00 -3.75016918e-01 -2.75861087e-01 -1.06038190e-01\n",
      "  1.02306745e+00  7.88147276e-02 -1.08618239e+00 -5.27036303e-01\n",
      "  2.72910427e-01 -4.40473805e-01 -8.14509594e-01 -8.63258007e-01\n",
      " -1.82069892e+00 -1.87348985e-01 -2.87247830e+00 -1.17764453e+00\n",
      " -1.08618239e+00  3.79311471e-01  1.03182303e-01  3.19903544e-01\n",
      " -3.08445643e-02  2.05463919e-01 -3.03384406e+00 -2.06518714e+00\n",
      " -2.87247830e+00 -4.23934736e+00  1.65797623e-01 -2.87247830e+00\n",
      " -1.96011832e+00 -2.97711259e+00 -7.38198017e-01 -1.73750004e+00\n",
      " -1.69836016e+00  2.78242276e-01 -1.62439656e+00 -7.09232586e-01\n",
      " -2.87247830e+00 -1.66069469e+00 -6.01096091e-01 -3.72975115e-01\n",
      " -2.12217401e+00 -6.01096091e-01  4.26256845e-01  6.10065734e-01\n",
      " -2.24692556e+00  3.30053203e-01  5.45039826e-01 -8.30496467e-01\n",
      "  3.90882546e-02  2.54874741e-02 -3.55910836e+00 -3.04018042e-01\n",
      "  1.15772754e-01  2.54874741e-02 -4.23934736e+00  5.25065332e-02\n",
      "  5.71158291e-01  5.55161319e-01  1.70546741e-01  7.71791006e-01\n",
      " -2.94544026e-01  6.69330781e-01 -2.79569855e-01 -2.21819512e-01\n",
      " -6.53703363e-01 -8.97129327e-01  1.04448506e-01  1.74722383e+00\n",
      " -8.14509594e-01  1.07712768e+00  5.94683931e-01  2.34769607e-01\n",
      "  1.53825207e-01 -1.29356894e+00 -5.63380748e-01 -1.91145320e+00\n",
      " -1.26828483e+00  1.23705291e+00 -3.08445643e-02 -1.62796765e+00\n",
      " -1.62439656e+00  8.89641614e-01 -4.23934736e+00 -2.57520808e-01\n",
      " -4.47041782e-01  1.65797623e-01 -1.97014214e+00 -1.55552882e+00\n",
      " -8.63258007e-01  3.90882546e-02 -1.62254122e-01 -2.28193521e-03\n",
      "  1.19010108e+00 -1.06038190e-01 -7.38198017e-01 -2.12217401e+00\n",
      " -7.90254117e+00 -7.38198017e-01 -2.07632767e+00 -1.24362428e+00\n",
      " -2.31566862e+00 -1.17309417e+00 -1.86504687e+00  7.71791006e-01\n",
      "  1.07473277e+00 -2.18260567e+00 -4.91966584e-01 -5.04550768e+00\n",
      " -2.89762847e+00 -4.80544761e-01 -1.09035318e+00 -2.33000305e+00\n",
      " -4.91966584e-01 -6.01096091e-01 -1.29356894e+00 -3.72975115e-01\n",
      " -7.09232586e-01 -5.51118577e-01 -1.69836016e+00 -1.01393818e+00\n",
      "  9.49746294e-01 -9.20793517e-02 -2.01127343e+00  6.54840538e-01\n",
      "  8.93874057e-01 -2.87247830e+00 -3.55910836e+00 -7.90254117e+00\n",
      " -1.86504687e+00 -3.72975115e-01  1.04058749e+00 -3.09398858e+00\n",
      " -6.81082587e-01  1.29441582e-01 -1.86504687e+00 -1.62439656e+00\n",
      "  1.00266132e+00 -7.90254117e+00 -2.75542202e+00 -2.65064328e+00\n",
      " -9.87194865e-01  2.23599592e-01 -3.72975115e-01 -1.26828483e+00\n",
      " -2.18260567e+00  1.04448506e-01 -1.64612753e-02 -2.87247830e+00\n",
      " -4.80544761e-01 -1.31950894e+00 -7.90254117e+00 -2.66648903e-01\n",
      " -1.48240211e+00  8.10005809e-01 -2.57520808e-01  1.35593455e-01\n",
      "  3.90882546e-02  1.40636167e+00  2.76006361e-01  6.57471430e-02\n",
      " -2.75861087e-01 -1.82069892e+00 -1.31950894e+00 -4.14624962e-01\n",
      " -7.90254117e+00 -6.03661753e-01  9.16598908e-01 -1.55552882e+00\n",
      " -8.30496467e-01  7.11582754e-01  6.80773672e-01 -5.39004947e-01\n",
      " -2.94544026e-01  1.22371398e+00  1.19010108e+00  1.01279988e-01\n",
      " -1.77823447e+00 -4.80544761e-01  1.29441582e-01 -3.55910836e+00\n",
      " -8.13556062e-02  3.90882546e-02 -7.38198017e-01 -2.06518714e+00\n",
      " -1.33540220e+00 -2.75861087e-01  1.41151143e+00  2.94069343e-01\n",
      "  1.04022023e+00 -1.86504687e+00  3.30053203e-01  8.82314993e-01\n",
      "  1.65797623e-01 -5.95984432e-01 -1.08618239e+00 -1.62439656e+00\n",
      " -1.05257566e-01 -1.82069892e+00  3.90882546e-02  1.80777266e+00\n",
      " -4.23934736e+00 -1.29356894e+00 -1.58936996e+00 -3.55910836e+00\n",
      " -2.87247830e+00 -3.95748988e-02 -1.06038190e-01 -6.01096091e-01\n",
      " -1.06038190e-01  1.17023124e-01 -8.14509594e-01  5.55161319e-01\n",
      "  3.76423419e-01 -7.90254117e+00 -6.53703363e-01  4.44434813e-01\n",
      " -2.18260567e+00 -1.55552882e+00  1.29441582e-01 -9.32188255e-01\n",
      " -1.62439656e+00  8.19335609e-01  4.26256845e-01 -1.77823447e+00\n",
      " -6.53703363e-01 -9.87194865e-01 -5.39004947e-01  6.80062315e-01\n",
      " -7.52789913e-02 -2.65064328e+00 -2.87247830e+00 -3.32990838e-01\n",
      "  6.69330781e-01 -1.06558547e+00 -1.24362428e+00  6.72920770e-01\n",
      " -2.65064328e+00 -2.05548510e+00  5.22378571e-01  1.06751343e+00\n",
      " -6.01096091e-01  9.22200338e-01 -1.31950894e+00  1.04800313e+00\n",
      " -2.58967144e+00 -3.38887507e-01  2.23599592e-01  2.78242276e-01\n",
      " -2.06518714e+00 -1.54027188e-01  5.94683931e-01 -2.18260567e+00\n",
      " -5.03520374e-01 -1.15064787e+00 -9.87194865e-01  8.16235337e-01\n",
      " -2.06518714e+00 -1.37773625e-01 -4.90716754e+00  1.35498256e+00\n",
      " -6.01096091e-01  9.49746294e-01 -1.17309417e+00  1.20072699e+00\n",
      " -1.08618239e+00 -6.01096091e-01 -1.70549300e-01 -1.62254122e-01\n",
      " -2.00136594e-01  1.35593455e-01  1.04448506e-01 -1.21780021e-01\n",
      "  8.93874057e-01 -3.55910836e+00  3.90882546e-02  2.72910427e-01\n",
      " -2.18260567e+00 -2.75861087e-01 -7.90254117e+00  4.35387134e-01\n",
      " -1.82069892e+00 -2.65064328e+00  1.28206653e-01 -3.55910836e+00\n",
      "  1.15772754e-01 -9.32188255e-01 -2.65064328e+00 -3.55910836e+00\n",
      "  3.69652017e-01 -4.23934736e+00  1.65797623e-01  3.74493407e-01\n",
      " -6.53730371e-01  4.26256845e-01  1.65797623e-01 -8.97129327e-01\n",
      " -4.54377551e-02  7.97429109e-01 -2.46919504e+00 -3.32990838e-01\n",
      " -6.01096091e-01  4.17042426e-01 -8.97129327e-01 -1.73750004e+00\n",
      " -5.15209215e-01  3.50048605e-01  3.35089661e-01 -4.54377551e-02\n",
      " -3.08445643e-02 -7.53001556e-01 -2.89762847e+00 -6.72789823e-01\n",
      " -1.77823447e+00 -8.30496467e-01  2.88821438e-01  2.78242276e-01\n",
      " -1.08618239e+00 -2.48592812e+00 -3.72975115e-01 -1.62254122e-01\n",
      " -4.90716754e+00 -3.72975115e-01 -1.55552882e+00 -1.34613980e+00\n",
      " -1.55552882e+00 -1.08202893e+00 -8.97129327e-01 -4.58085194e-01\n",
      " -1.87348985e-01 -1.86504687e+00  7.88147276e-02  7.45478255e-01\n",
      " -1.49109980e+00 -2.13089847e-01  2.56742157e-01  3.29042860e-01\n",
      "  1.32947671e+00 -1.70606654e+00  6.32703713e-01  8.93874057e-01\n",
      "  6.69330781e-01  1.01800482e+00  1.17023124e-01 -6.27053826e-01\n",
      " -8.28805470e-02 -5.27036303e-01 -1.10721249e+00 -5.28149958e-02\n",
      "  1.01291644e+00 -1.21780021e-01 -2.36270601e-02 -5.51118577e-01\n",
      " -1.62439656e+00 -3.42838026e-01 -1.62439656e+00 -2.87247830e+00\n",
      " -3.55910836e+00 -1.05242143e+00 -3.09398858e+00  3.90882546e-02\n",
      " -1.62439656e+00 -2.06518714e+00 -1.19605589e+00  7.38790445e-01\n",
      " -3.32990838e-01 -2.75542202e+00  1.41833678e+00 -1.08618239e+00\n",
      "  1.39075133e+00 -8.97129327e-01  1.15973345e+00 -9.05779503e-01\n",
      " -6.27053826e-01  4.71096821e-01  3.04483248e-01 -2.42273799e-03\n",
      " -1.46037792e+00 -3.32990838e-01  2.78242276e-01 -1.08618239e+00\n",
      " -1.19142117e+00 -2.94544026e-01  7.38790445e-01  1.19010108e+00\n",
      " -1.48487945e+00 -7.09232586e-01 -1.62439656e+00 -1.04540423e+00\n",
      "  1.25222609e+00 -1.08618239e+00 -1.06038190e-01  9.17137507e-02\n",
      " -9.68521111e-01 -2.31566862e+00  1.35593455e-01 -1.17764453e+00\n",
      " -3.84246917e+00 -4.58085194e-01 -1.43057181e+00 -3.15798328e+00\n",
      "  6.51184930e-01  1.17023124e-01 -1.49109980e+00 -1.89263146e+00\n",
      " -2.77776270e+00 -1.91145320e+00 -1.62439656e+00 -6.27053826e-01\n",
      " -2.18260567e+00  4.17042426e-01 -8.97129327e-01 -7.38198017e-01\n",
      " -1.08618239e+00 -3.69085594e-03 -1.31950894e+00 -3.00507607e+00\n",
      "  3.19903544e-01 -3.24420416e+00 -1.19605589e+00  1.51549224e+00]\n"
     ]
    }
   ],
   "source": [
    "model007 = pd.DataFrame(model007)\n",
    "z = model007['log_saleprice1']\n",
    "z = np.array(z)   #convert into array, which allows other indexing\n",
    "ztt = z[np.logical_not(np.isnan(z))]\n",
    "print(ztt)"
   ]
  },
  {
   "cell_type": "code",
   "execution_count": 96,
   "metadata": {},
   "outputs": [
    {
     "ename": "ValueError",
     "evalue": "endog and exog matrices are different sizes",
     "output_type": "error",
     "traceback": [
      "\u001b[0;31m---------------------------------------------------------------------------\u001b[0m",
      "\u001b[0;31mValueError\u001b[0m                                Traceback (most recent call last)",
      "\u001b[0;32m<ipython-input-96-5eea27f2e172>\u001b[0m in \u001b[0;36m<module>\u001b[0;34m\u001b[0m\n\u001b[1;32m      2\u001b[0m \u001b[0my\u001b[0m \u001b[0;34m=\u001b[0m \u001b[0mztt\u001b[0m\u001b[0;34m\u001b[0m\u001b[0;34m\u001b[0m\u001b[0m\n\u001b[1;32m      3\u001b[0m \u001b[0mx\u001b[0m \u001b[0;34m=\u001b[0m \u001b[0mcnm\u001b[0m\u001b[0;34m[\u001b[0m\u001b[0;34m[\u001b[0m\u001b[0;34m'age1'\u001b[0m\u001b[0;34m,\u001b[0m\u001b[0;34m'liv1'\u001b[0m\u001b[0;34m,\u001b[0m\u001b[0;34m'bsmt1'\u001b[0m\u001b[0;34m,\u001b[0m\u001b[0;34m'garage1'\u001b[0m\u001b[0;34m,\u001b[0m\u001b[0;34m'air1'\u001b[0m\u001b[0;34m]\u001b[0m\u001b[0;34m]\u001b[0m\u001b[0;34m\u001b[0m\u001b[0;34m\u001b[0m\u001b[0m\n\u001b[0;32m----> 4\u001b[0;31m \u001b[0mmodel13\u001b[0m \u001b[0;34m=\u001b[0m \u001b[0msm\u001b[0m\u001b[0;34m.\u001b[0m\u001b[0mOLS\u001b[0m\u001b[0;34m(\u001b[0m\u001b[0my\u001b[0m\u001b[0;34m,\u001b[0m \u001b[0mx\u001b[0m\u001b[0;34m)\u001b[0m\u001b[0;34m\u001b[0m\u001b[0;34m\u001b[0m\u001b[0m\n\u001b[0m\u001b[1;32m      5\u001b[0m \u001b[0mresults13\u001b[0m \u001b[0;34m=\u001b[0m \u001b[0mmodel13\u001b[0m\u001b[0;34m.\u001b[0m\u001b[0mfit\u001b[0m\u001b[0;34m(\u001b[0m\u001b[0;34m)\u001b[0m\u001b[0;34m\u001b[0m\u001b[0;34m\u001b[0m\u001b[0m\n\u001b[1;32m      6\u001b[0m \u001b[0mprint\u001b[0m\u001b[0;34m(\u001b[0m\u001b[0mresults13\u001b[0m\u001b[0;34m.\u001b[0m\u001b[0msummary\u001b[0m\u001b[0;34m(\u001b[0m\u001b[0;34m)\u001b[0m\u001b[0;34m)\u001b[0m\u001b[0;34m\u001b[0m\u001b[0;34m\u001b[0m\u001b[0m\n",
      "\u001b[0;32m/anaconda3/lib/python3.7/site-packages/statsmodels/regression/linear_model.py\u001b[0m in \u001b[0;36m__init__\u001b[0;34m(self, endog, exog, missing, hasconst, **kwargs)\u001b[0m\n\u001b[1;32m    815\u001b[0m                  **kwargs):\n\u001b[1;32m    816\u001b[0m         super(OLS, self).__init__(endog, exog, missing=missing,\n\u001b[0;32m--> 817\u001b[0;31m                                   hasconst=hasconst, **kwargs)\n\u001b[0m\u001b[1;32m    818\u001b[0m         \u001b[0;32mif\u001b[0m \u001b[0;34m\"weights\"\u001b[0m \u001b[0;32min\u001b[0m \u001b[0mself\u001b[0m\u001b[0;34m.\u001b[0m\u001b[0m_init_keys\u001b[0m\u001b[0;34m:\u001b[0m\u001b[0;34m\u001b[0m\u001b[0;34m\u001b[0m\u001b[0m\n\u001b[1;32m    819\u001b[0m             \u001b[0mself\u001b[0m\u001b[0;34m.\u001b[0m\u001b[0m_init_keys\u001b[0m\u001b[0;34m.\u001b[0m\u001b[0mremove\u001b[0m\u001b[0;34m(\u001b[0m\u001b[0;34m\"weights\"\u001b[0m\u001b[0;34m)\u001b[0m\u001b[0;34m\u001b[0m\u001b[0;34m\u001b[0m\u001b[0m\n",
      "\u001b[0;32m/anaconda3/lib/python3.7/site-packages/statsmodels/regression/linear_model.py\u001b[0m in \u001b[0;36m__init__\u001b[0;34m(self, endog, exog, weights, missing, hasconst, **kwargs)\u001b[0m\n\u001b[1;32m    661\u001b[0m             \u001b[0mweights\u001b[0m \u001b[0;34m=\u001b[0m \u001b[0mweights\u001b[0m\u001b[0;34m.\u001b[0m\u001b[0msqueeze\u001b[0m\u001b[0;34m(\u001b[0m\u001b[0;34m)\u001b[0m\u001b[0;34m\u001b[0m\u001b[0;34m\u001b[0m\u001b[0m\n\u001b[1;32m    662\u001b[0m         super(WLS, self).__init__(endog, exog, missing=missing,\n\u001b[0;32m--> 663\u001b[0;31m                                   weights=weights, hasconst=hasconst, **kwargs)\n\u001b[0m\u001b[1;32m    664\u001b[0m         \u001b[0mnobs\u001b[0m \u001b[0;34m=\u001b[0m \u001b[0mself\u001b[0m\u001b[0;34m.\u001b[0m\u001b[0mexog\u001b[0m\u001b[0;34m.\u001b[0m\u001b[0mshape\u001b[0m\u001b[0;34m[\u001b[0m\u001b[0;36m0\u001b[0m\u001b[0;34m]\u001b[0m\u001b[0;34m\u001b[0m\u001b[0;34m\u001b[0m\u001b[0m\n\u001b[1;32m    665\u001b[0m         \u001b[0mweights\u001b[0m \u001b[0;34m=\u001b[0m \u001b[0mself\u001b[0m\u001b[0;34m.\u001b[0m\u001b[0mweights\u001b[0m\u001b[0;34m\u001b[0m\u001b[0;34m\u001b[0m\u001b[0m\n",
      "\u001b[0;32m/anaconda3/lib/python3.7/site-packages/statsmodels/regression/linear_model.py\u001b[0m in \u001b[0;36m__init__\u001b[0;34m(self, endog, exog, **kwargs)\u001b[0m\n\u001b[1;32m    177\u001b[0m     \"\"\"\n\u001b[1;32m    178\u001b[0m     \u001b[0;32mdef\u001b[0m \u001b[0m__init__\u001b[0m\u001b[0;34m(\u001b[0m\u001b[0mself\u001b[0m\u001b[0;34m,\u001b[0m \u001b[0mendog\u001b[0m\u001b[0;34m,\u001b[0m \u001b[0mexog\u001b[0m\u001b[0;34m,\u001b[0m \u001b[0;34m**\u001b[0m\u001b[0mkwargs\u001b[0m\u001b[0;34m)\u001b[0m\u001b[0;34m:\u001b[0m\u001b[0;34m\u001b[0m\u001b[0;34m\u001b[0m\u001b[0m\n\u001b[0;32m--> 179\u001b[0;31m         \u001b[0msuper\u001b[0m\u001b[0;34m(\u001b[0m\u001b[0mRegressionModel\u001b[0m\u001b[0;34m,\u001b[0m \u001b[0mself\u001b[0m\u001b[0;34m)\u001b[0m\u001b[0;34m.\u001b[0m\u001b[0m__init__\u001b[0m\u001b[0;34m(\u001b[0m\u001b[0mendog\u001b[0m\u001b[0;34m,\u001b[0m \u001b[0mexog\u001b[0m\u001b[0;34m,\u001b[0m \u001b[0;34m**\u001b[0m\u001b[0mkwargs\u001b[0m\u001b[0;34m)\u001b[0m\u001b[0;34m\u001b[0m\u001b[0;34m\u001b[0m\u001b[0m\n\u001b[0m\u001b[1;32m    180\u001b[0m         \u001b[0mself\u001b[0m\u001b[0;34m.\u001b[0m\u001b[0m_data_attr\u001b[0m\u001b[0;34m.\u001b[0m\u001b[0mextend\u001b[0m\u001b[0;34m(\u001b[0m\u001b[0;34m[\u001b[0m\u001b[0;34m'pinv_wexog'\u001b[0m\u001b[0;34m,\u001b[0m \u001b[0;34m'wendog'\u001b[0m\u001b[0;34m,\u001b[0m \u001b[0;34m'wexog'\u001b[0m\u001b[0;34m,\u001b[0m \u001b[0;34m'weights'\u001b[0m\u001b[0;34m]\u001b[0m\u001b[0;34m)\u001b[0m\u001b[0;34m\u001b[0m\u001b[0;34m\u001b[0m\u001b[0m\n\u001b[1;32m    181\u001b[0m \u001b[0;34m\u001b[0m\u001b[0m\n",
      "\u001b[0;32m/anaconda3/lib/python3.7/site-packages/statsmodels/base/model.py\u001b[0m in \u001b[0;36m__init__\u001b[0;34m(self, endog, exog, **kwargs)\u001b[0m\n\u001b[1;32m    210\u001b[0m \u001b[0;34m\u001b[0m\u001b[0m\n\u001b[1;32m    211\u001b[0m     \u001b[0;32mdef\u001b[0m \u001b[0m__init__\u001b[0m\u001b[0;34m(\u001b[0m\u001b[0mself\u001b[0m\u001b[0;34m,\u001b[0m \u001b[0mendog\u001b[0m\u001b[0;34m,\u001b[0m \u001b[0mexog\u001b[0m\u001b[0;34m=\u001b[0m\u001b[0;32mNone\u001b[0m\u001b[0;34m,\u001b[0m \u001b[0;34m**\u001b[0m\u001b[0mkwargs\u001b[0m\u001b[0;34m)\u001b[0m\u001b[0;34m:\u001b[0m\u001b[0;34m\u001b[0m\u001b[0;34m\u001b[0m\u001b[0m\n\u001b[0;32m--> 212\u001b[0;31m         \u001b[0msuper\u001b[0m\u001b[0;34m(\u001b[0m\u001b[0mLikelihoodModel\u001b[0m\u001b[0;34m,\u001b[0m \u001b[0mself\u001b[0m\u001b[0;34m)\u001b[0m\u001b[0;34m.\u001b[0m\u001b[0m__init__\u001b[0m\u001b[0;34m(\u001b[0m\u001b[0mendog\u001b[0m\u001b[0;34m,\u001b[0m \u001b[0mexog\u001b[0m\u001b[0;34m,\u001b[0m \u001b[0;34m**\u001b[0m\u001b[0mkwargs\u001b[0m\u001b[0;34m)\u001b[0m\u001b[0;34m\u001b[0m\u001b[0;34m\u001b[0m\u001b[0m\n\u001b[0m\u001b[1;32m    213\u001b[0m         \u001b[0mself\u001b[0m\u001b[0;34m.\u001b[0m\u001b[0minitialize\u001b[0m\u001b[0;34m(\u001b[0m\u001b[0;34m)\u001b[0m\u001b[0;34m\u001b[0m\u001b[0;34m\u001b[0m\u001b[0m\n\u001b[1;32m    214\u001b[0m \u001b[0;34m\u001b[0m\u001b[0m\n",
      "\u001b[0;32m/anaconda3/lib/python3.7/site-packages/statsmodels/base/model.py\u001b[0m in \u001b[0;36m__init__\u001b[0;34m(self, endog, exog, **kwargs)\u001b[0m\n\u001b[1;32m     62\u001b[0m         \u001b[0mhasconst\u001b[0m \u001b[0;34m=\u001b[0m \u001b[0mkwargs\u001b[0m\u001b[0;34m.\u001b[0m\u001b[0mpop\u001b[0m\u001b[0;34m(\u001b[0m\u001b[0;34m'hasconst'\u001b[0m\u001b[0;34m,\u001b[0m \u001b[0;32mNone\u001b[0m\u001b[0;34m)\u001b[0m\u001b[0;34m\u001b[0m\u001b[0;34m\u001b[0m\u001b[0m\n\u001b[1;32m     63\u001b[0m         self.data = self._handle_data(endog, exog, missing, hasconst,\n\u001b[0;32m---> 64\u001b[0;31m                                       **kwargs)\n\u001b[0m\u001b[1;32m     65\u001b[0m         \u001b[0mself\u001b[0m\u001b[0;34m.\u001b[0m\u001b[0mk_constant\u001b[0m \u001b[0;34m=\u001b[0m \u001b[0mself\u001b[0m\u001b[0;34m.\u001b[0m\u001b[0mdata\u001b[0m\u001b[0;34m.\u001b[0m\u001b[0mk_constant\u001b[0m\u001b[0;34m\u001b[0m\u001b[0;34m\u001b[0m\u001b[0m\n\u001b[1;32m     66\u001b[0m         \u001b[0mself\u001b[0m\u001b[0;34m.\u001b[0m\u001b[0mexog\u001b[0m \u001b[0;34m=\u001b[0m \u001b[0mself\u001b[0m\u001b[0;34m.\u001b[0m\u001b[0mdata\u001b[0m\u001b[0;34m.\u001b[0m\u001b[0mexog\u001b[0m\u001b[0;34m\u001b[0m\u001b[0;34m\u001b[0m\u001b[0m\n",
      "\u001b[0;32m/anaconda3/lib/python3.7/site-packages/statsmodels/base/model.py\u001b[0m in \u001b[0;36m_handle_data\u001b[0;34m(self, endog, exog, missing, hasconst, **kwargs)\u001b[0m\n\u001b[1;32m     85\u001b[0m \u001b[0;34m\u001b[0m\u001b[0m\n\u001b[1;32m     86\u001b[0m     \u001b[0;32mdef\u001b[0m \u001b[0m_handle_data\u001b[0m\u001b[0;34m(\u001b[0m\u001b[0mself\u001b[0m\u001b[0;34m,\u001b[0m \u001b[0mendog\u001b[0m\u001b[0;34m,\u001b[0m \u001b[0mexog\u001b[0m\u001b[0;34m,\u001b[0m \u001b[0mmissing\u001b[0m\u001b[0;34m,\u001b[0m \u001b[0mhasconst\u001b[0m\u001b[0;34m,\u001b[0m \u001b[0;34m**\u001b[0m\u001b[0mkwargs\u001b[0m\u001b[0;34m)\u001b[0m\u001b[0;34m:\u001b[0m\u001b[0;34m\u001b[0m\u001b[0;34m\u001b[0m\u001b[0m\n\u001b[0;32m---> 87\u001b[0;31m         \u001b[0mdata\u001b[0m \u001b[0;34m=\u001b[0m \u001b[0mhandle_data\u001b[0m\u001b[0;34m(\u001b[0m\u001b[0mendog\u001b[0m\u001b[0;34m,\u001b[0m \u001b[0mexog\u001b[0m\u001b[0;34m,\u001b[0m \u001b[0mmissing\u001b[0m\u001b[0;34m,\u001b[0m \u001b[0mhasconst\u001b[0m\u001b[0;34m,\u001b[0m \u001b[0;34m**\u001b[0m\u001b[0mkwargs\u001b[0m\u001b[0;34m)\u001b[0m\u001b[0;34m\u001b[0m\u001b[0;34m\u001b[0m\u001b[0m\n\u001b[0m\u001b[1;32m     88\u001b[0m         \u001b[0;31m# kwargs arrays could have changed, easier to just attach here\u001b[0m\u001b[0;34m\u001b[0m\u001b[0;34m\u001b[0m\u001b[0;34m\u001b[0m\u001b[0m\n\u001b[1;32m     89\u001b[0m         \u001b[0;32mfor\u001b[0m \u001b[0mkey\u001b[0m \u001b[0;32min\u001b[0m \u001b[0mkwargs\u001b[0m\u001b[0;34m:\u001b[0m\u001b[0;34m\u001b[0m\u001b[0;34m\u001b[0m\u001b[0m\n",
      "\u001b[0;32m/anaconda3/lib/python3.7/site-packages/statsmodels/base/data.py\u001b[0m in \u001b[0;36mhandle_data\u001b[0;34m(endog, exog, missing, hasconst, **kwargs)\u001b[0m\n\u001b[1;32m    631\u001b[0m     \u001b[0mklass\u001b[0m \u001b[0;34m=\u001b[0m \u001b[0mhandle_data_class_factory\u001b[0m\u001b[0;34m(\u001b[0m\u001b[0mendog\u001b[0m\u001b[0;34m,\u001b[0m \u001b[0mexog\u001b[0m\u001b[0;34m)\u001b[0m\u001b[0;34m\u001b[0m\u001b[0;34m\u001b[0m\u001b[0m\n\u001b[1;32m    632\u001b[0m     return klass(endog, exog=exog, missing=missing, hasconst=hasconst,\n\u001b[0;32m--> 633\u001b[0;31m                  **kwargs)\n\u001b[0m",
      "\u001b[0;32m/anaconda3/lib/python3.7/site-packages/statsmodels/base/data.py\u001b[0m in \u001b[0;36m__init__\u001b[0;34m(self, endog, exog, missing, hasconst, **kwargs)\u001b[0m\n\u001b[1;32m     78\u001b[0m         \u001b[0;31m# this has side-effects, attaches k_constant and const_idx\u001b[0m\u001b[0;34m\u001b[0m\u001b[0;34m\u001b[0m\u001b[0;34m\u001b[0m\u001b[0m\n\u001b[1;32m     79\u001b[0m         \u001b[0mself\u001b[0m\u001b[0;34m.\u001b[0m\u001b[0m_handle_constant\u001b[0m\u001b[0;34m(\u001b[0m\u001b[0mhasconst\u001b[0m\u001b[0;34m)\u001b[0m\u001b[0;34m\u001b[0m\u001b[0;34m\u001b[0m\u001b[0m\n\u001b[0;32m---> 80\u001b[0;31m         \u001b[0mself\u001b[0m\u001b[0;34m.\u001b[0m\u001b[0m_check_integrity\u001b[0m\u001b[0;34m(\u001b[0m\u001b[0;34m)\u001b[0m\u001b[0;34m\u001b[0m\u001b[0;34m\u001b[0m\u001b[0m\n\u001b[0m\u001b[1;32m     81\u001b[0m         \u001b[0mself\u001b[0m\u001b[0;34m.\u001b[0m\u001b[0m_cache\u001b[0m \u001b[0;34m=\u001b[0m \u001b[0mresettable_cache\u001b[0m\u001b[0;34m(\u001b[0m\u001b[0;34m)\u001b[0m\u001b[0;34m\u001b[0m\u001b[0;34m\u001b[0m\u001b[0m\n\u001b[1;32m     82\u001b[0m \u001b[0;34m\u001b[0m\u001b[0m\n",
      "\u001b[0;32m/anaconda3/lib/python3.7/site-packages/statsmodels/base/data.py\u001b[0m in \u001b[0;36m_check_integrity\u001b[0;34m(self)\u001b[0m\n\u001b[1;32m    497\u001b[0m                 not self.orig_endog.index.equals(self.orig_exog.index)):\n\u001b[1;32m    498\u001b[0m             \u001b[0;32mraise\u001b[0m \u001b[0mValueError\u001b[0m\u001b[0;34m(\u001b[0m\u001b[0;34m\"The indices for endog and exog are not aligned\"\u001b[0m\u001b[0;34m)\u001b[0m\u001b[0;34m\u001b[0m\u001b[0;34m\u001b[0m\u001b[0m\n\u001b[0;32m--> 499\u001b[0;31m         \u001b[0msuper\u001b[0m\u001b[0;34m(\u001b[0m\u001b[0mPandasData\u001b[0m\u001b[0;34m,\u001b[0m \u001b[0mself\u001b[0m\u001b[0;34m)\u001b[0m\u001b[0;34m.\u001b[0m\u001b[0m_check_integrity\u001b[0m\u001b[0;34m(\u001b[0m\u001b[0;34m)\u001b[0m\u001b[0;34m\u001b[0m\u001b[0;34m\u001b[0m\u001b[0m\n\u001b[0m\u001b[1;32m    500\u001b[0m \u001b[0;34m\u001b[0m\u001b[0m\n\u001b[1;32m    501\u001b[0m     \u001b[0;32mdef\u001b[0m \u001b[0m_get_row_labels\u001b[0m\u001b[0;34m(\u001b[0m\u001b[0mself\u001b[0m\u001b[0;34m,\u001b[0m \u001b[0marr\u001b[0m\u001b[0;34m)\u001b[0m\u001b[0;34m:\u001b[0m\u001b[0;34m\u001b[0m\u001b[0;34m\u001b[0m\u001b[0m\n",
      "\u001b[0;32m/anaconda3/lib/python3.7/site-packages/statsmodels/base/data.py\u001b[0m in \u001b[0;36m_check_integrity\u001b[0;34m(self)\u001b[0m\n\u001b[1;32m    404\u001b[0m         \u001b[0;32mif\u001b[0m \u001b[0mself\u001b[0m\u001b[0;34m.\u001b[0m\u001b[0mexog\u001b[0m \u001b[0;32mis\u001b[0m \u001b[0;32mnot\u001b[0m \u001b[0;32mNone\u001b[0m\u001b[0;34m:\u001b[0m\u001b[0;34m\u001b[0m\u001b[0;34m\u001b[0m\u001b[0m\n\u001b[1;32m    405\u001b[0m             \u001b[0;32mif\u001b[0m \u001b[0mlen\u001b[0m\u001b[0;34m(\u001b[0m\u001b[0mself\u001b[0m\u001b[0;34m.\u001b[0m\u001b[0mexog\u001b[0m\u001b[0;34m)\u001b[0m \u001b[0;34m!=\u001b[0m \u001b[0mlen\u001b[0m\u001b[0;34m(\u001b[0m\u001b[0mself\u001b[0m\u001b[0;34m.\u001b[0m\u001b[0mendog\u001b[0m\u001b[0;34m)\u001b[0m\u001b[0;34m:\u001b[0m\u001b[0;34m\u001b[0m\u001b[0;34m\u001b[0m\u001b[0m\n\u001b[0;32m--> 406\u001b[0;31m                 \u001b[0;32mraise\u001b[0m \u001b[0mValueError\u001b[0m\u001b[0;34m(\u001b[0m\u001b[0;34m\"endog and exog matrices are different sizes\"\u001b[0m\u001b[0;34m)\u001b[0m\u001b[0;34m\u001b[0m\u001b[0;34m\u001b[0m\u001b[0m\n\u001b[0m\u001b[1;32m    407\u001b[0m \u001b[0;34m\u001b[0m\u001b[0m\n\u001b[1;32m    408\u001b[0m     \u001b[0;32mdef\u001b[0m \u001b[0mwrap_output\u001b[0m\u001b[0;34m(\u001b[0m\u001b[0mself\u001b[0m\u001b[0;34m,\u001b[0m \u001b[0mobj\u001b[0m\u001b[0;34m,\u001b[0m \u001b[0mhow\u001b[0m\u001b[0;34m=\u001b[0m\u001b[0;34m'columns'\u001b[0m\u001b[0;34m,\u001b[0m \u001b[0mnames\u001b[0m\u001b[0;34m=\u001b[0m\u001b[0;32mNone\u001b[0m\u001b[0;34m)\u001b[0m\u001b[0;34m:\u001b[0m\u001b[0;34m\u001b[0m\u001b[0;34m\u001b[0m\u001b[0m\n",
      "\u001b[0;31mValueError\u001b[0m: endog and exog matrices are different sizes"
     ]
    }
   ],
   "source": [
    "\n",
    "y = ztt\n",
    "x = cnm[['age1','liv1','bsmt1','garage1','air1']]\n",
    "model13 = sm.OLS(y, x)\n",
    "results13 = model13.fit()\n",
    "print(results13.summary())\n",
    "# "
   ]
  },
  {
   "cell_type": "code",
   "execution_count": 22,
   "metadata": {},
   "outputs": [
    {
     "name": "stderr",
     "output_type": "stream",
     "text": [
      "/anaconda3/lib/python3.7/site-packages/scipy/stats/stats.py:1713: FutureWarning: Using a non-tuple sequence for multidimensional indexing is deprecated; use `arr[tuple(seq)]` instead of `arr[seq]`. In the future this will be interpreted as an array index, `arr[np.array(seq)]`, which will result either in an error or a different result.\n",
      "  return np.add.reduce(sorted[indexer] * weights, axis=axis) / sumval\n"
     ]
    },
    {
     "data": {
      "text/plain": [
       "Text(0.5, 1.0, 'log(SalePrice)')"
      ]
     },
     "execution_count": 22,
     "metadata": {},
     "output_type": "execute_result"
    },
    {
     "data": {
      "image/png": "[encoded data removed]",
      "text/plain": [
       "<Figure size 1080x360 with 2 Axes>"
      ]
     },
     "metadata": {
      "needs_background": "light"
     },
     "output_type": "display_data"
    }
   ],
   "source": [
    "# do log\n",
    "cnm['sale log'] = np.log(cnm['SalePrice'] + 1)\n",
    "import seaborn as sns\n",
    "y_train = cnm['SalePrice']\n",
    "y_train_log = cnm['sale log']\n",
    "f, axes = plt.subplots(1, 2, figsize = (15, 5))            \n",
    "sns.kdeplot(y_train, ax = axes[0], legend = None)\n",
    "axes[0].set_title('SalePrice')\n",
    "sns.kdeplot(y_train_log, ax = axes[1], legend = None)\n",
    "axes[1].set_title('log(SalePrice)')"
   ]
  },
  {
   "cell_type": "markdown",
   "metadata": {},
   "source": [
    "# Draft"
   ]
  },
  {
   "cell_type": "code",
   "execution_count": 82,
   "metadata": {},
   "outputs": [
    {
     "name": "stdout",
     "output_type": "stream",
     "text": [
      "      saleprice1\n",
      "0       0.618446\n",
      "1      -0.463188\n",
      "5       0.084653\n",
      "7      -0.459676\n",
      "8      -0.366262\n",
      "10      0.063582\n",
      "11     -0.716037\n",
      "12      1.995072\n",
      "13     -0.631754\n",
      "14      0.562258\n",
      "15     -0.575565\n",
      "17     -0.814368\n",
      "18      0.225125\n",
      "20      0.267267\n",
      "21      1.601750\n",
      "22      0.920461\n",
      "23     -0.449140\n",
      "26      0.955579\n",
      "31      1.180334\n",
      "32     -0.723061\n",
      "33     -0.775738\n",
      "35     -0.112008\n",
      "36      0.197031\n",
      "38      0.197031\n",
      "39     -0.394356\n",
      "41     -0.628242\n",
      "42      1.917812\n",
      "43      0.667612\n",
      "44      1.531514\n",
      "45      3.849301\n",
      "...          ...\n",
      "2311   -0.707609\n",
      "2312   -0.456164\n",
      "2314   -0.154149\n",
      "2315   -0.294621\n",
      "2316   -0.547471\n",
      "2317    0.534163\n",
      "2318    0.112747\n",
      "2320    1.517467\n",
      "2321   -0.013677\n",
      "2322    0.407738\n",
      "2323    0.477974\n",
      "2324   -0.617707\n",
      "2325    0.337502\n",
      "2326   -1.249831\n",
      "2327    0.996316\n",
      "2328    0.267267\n",
      "2329    0.049535\n",
      "2330   -0.069866\n",
      "2331    1.376995\n",
      "2333   -1.362208\n",
      "2334   -1.334114\n",
      "2335   -0.730084\n",
      "2336   -0.421046\n",
      "2337    0.039000\n",
      "2338    0.302385\n",
      "2339   -0.687943\n",
      "2340   -0.041772\n",
      "2341   -0.189267\n",
      "2342   -0.561518\n",
      "2343    4.551661\n",
      "\n",
      "[1928 rows x 1 columns]\n"
     ]
    }
   ],
   "source": [
    "model007 = pd.DataFrame(model007,columns=['saleprice1'])\n",
    "print(model007)\n"
   ]
  },
  {
   "cell_type": "code",
   "execution_count": 93,
   "metadata": {},
   "outputs": [
    {
     "name": "stdout",
     "output_type": "stream",
     "text": [
      "[-4.80544761e-01 -2.46919504e+00 -2.75542202e+00  6.90679904e-01\n",
      " -5.75795148e-01 -1.49109980e+00 -1.31950894e+00  4.71096821e-01\n",
      " -8.28805470e-02 -4.54377551e-02  1.65797623e-01 -1.62439656e+00\n",
      " -1.62439656e+00  6.51184930e-01 -4.04048745e-01  4.26256845e-01\n",
      "  1.34789165e+00 -3.13582674e-01 -1.49109980e+00  5.67182975e-01\n",
      " -1.21780021e-01 -2.18260567e+00 -3.24781254e+00 -1.04540423e+00\n",
      " -6.40289822e-01  6.01635036e-01 -3.13582674e-01  4.21660249e-01\n",
      " -2.07632767e+00 -1.55552882e+00  7.04663572e-01  3.86495318e-01\n",
      " -1.54027188e-01  1.59829332e-01 -6.02470649e-02 -3.60971811e+00\n",
      " -3.13582674e-01  1.16991589e-02 -2.65064328e+00 -2.87247830e+00\n",
      " -1.86504687e+00 -3.72975115e-01 -2.55580936e+00  7.21872582e-01\n",
      " -3.37902311e-01 -1.69836016e+00 -1.46949579e+00 -2.06518714e+00\n",
      "  1.65797623e-01 -7.90254117e+00 -8.30496467e-01  1.05780586e+00\n",
      "  1.03182303e-01 -9.68521111e-01  1.62638440e+00 -9.68521111e-01\n",
      " -2.30626057e-01 -1.37349930e+00 -3.55910836e+00 -1.04540423e+00\n",
      " -1.04540423e+00 -4.80544761e-01  3.90904521e-01 -2.18260567e+00\n",
      " -1.13878130e-01 -1.77823447e+00 -4.36118997e-01  7.52121636e-01\n",
      "  4.26256845e-01 -6.01096091e-01 -9.87194865e-01  1.38373440e+00\n",
      " -1.86504687e+00  3.90882546e-02 -2.65064328e+00  2.40308172e-01\n",
      " -3.52783147e-01  7.04663572e-01 -1.21955727e+00 -2.06518714e+00\n",
      " -7.53001556e-01  6.57471430e-02 -1.69836016e+00 -1.27832189e+00\n",
      " -3.52783147e-01  3.90882546e-02  1.95116183e-01 -2.75861087e-01\n",
      " -1.43057181e+00  1.27210538e+00  2.34536315e-01  5.63191793e-01\n",
      " -1.37349930e+00 -4.36118997e-01  4.98773946e-01 -4.80771924e-01\n",
      " -3.72975115e-01  5.53547456e-01 -1.95855863e-01  1.01546387e+00\n",
      " -8.14509594e-01  1.04448506e-01  3.69652017e-01  2.78242276e-01\n",
      " -1.49109980e+00 -1.49109980e+00 -1.31950894e+00  9.17137507e-02\n",
      "  2.00878139e-01 -1.21955727e+00 -9.72228069e-01 -2.46919504e+00\n",
      " -5.07339277e-01 -1.85601854e+00 -6.81082587e-01 -1.08618239e+00\n",
      "  8.03737231e-01 -4.80544761e-01  2.72910427e-01  1.04306549e+00\n",
      "  7.97429109e-01 -4.23934736e+00 -3.84246917e+00 -4.80544761e-01\n",
      " -1.69836016e+00  5.25065332e-02 -2.75861087e-01  6.69330781e-01\n",
      "  3.22959273e-01 -4.90716754e+00 -1.50682208e+00  3.74493407e-01\n",
      " -1.62439656e+00 -1.62439656e+00  4.35387134e-01 -6.67299275e-01\n",
      " -1.21955727e+00 -1.62439656e+00  6.69330781e-01 -1.06038190e-01\n",
      " -1.43057181e+00 -9.32188255e-01 -6.67299275e-01 -2.89762847e+00\n",
      "  5.05575171e-01 -1.49109980e+00 -6.81082587e-01 -1.69836016e+00\n",
      " -3.32990838e-01  1.84174899e+00  7.58721173e-01  4.03059616e-01\n",
      "  1.06509536e+00 -5.11788414e+00 -1.69836016e+00  1.02810458e+00\n",
      "  5.18145551e-01 -1.70549300e-01 -1.07601269e-01  3.30053203e-01\n",
      " -1.43057181e+00 -3.19158491e+00 -2.06518714e+00 -1.58593384e+00\n",
      "  1.00266132e+00 -1.08618239e+00 -2.24692556e+00 -4.58085194e-01\n",
      " -2.75861087e-01 -4.91966584e-01 -1.96011832e+00 -6.53703363e-01\n",
      " -3.42838026e-01 -2.06518714e+00 -2.06518714e+00 -2.75861087e-01\n",
      " -1.00622397e+00 -3.55910836e+00 -1.78913865e-01  3.79311471e-01\n",
      " -2.04435729e-01 -8.14509594e-01 -2.17022365e+00 -1.15064787e+00\n",
      "  1.92570366e-01 -7.09232586e-01 -6.33649926e-01 -2.65064328e+00\n",
      "  3.30053203e-01  6.76497917e-01  3.90882546e-02  6.02404407e-01\n",
      "  1.20764881e-01 -2.87247830e+00  3.79311471e-01 -2.89762847e+00\n",
      " -1.77823447e+00 -7.98774285e-01  2.78242276e-01 -1.06038190e-01\n",
      " -1.21780021e-01 -1.97014214e+00  4.71096821e-01 -1.87348985e-01\n",
      " -7.83282745e-01 -9.32188255e-01 -2.87247830e+00 -2.89762847e+00\n",
      " -3.04018042e-01 -6.40556337e-01  4.71096821e-01 -1.26828483e+00\n",
      " -4.25314231e-01 -3.15798328e+00  1.86170810e-02  8.03737231e-01\n",
      " -3.75016918e-01 -2.06518714e+00 -2.06518714e+00 -1.98536881e+00\n",
      "  1.86170810e-02 -9.05403293e-02  8.40772483e-01  2.00878139e-01\n",
      "  3.30053203e-01 -4.80544761e-01  4.79828493e-01 -1.63155154e+00\n",
      " -8.33724742e-01 -1.26828483e+00  2.09601542e+00 -1.13304668e+00\n",
      " -2.06518714e+00  4.79828493e-01  1.65797623e-01 -5.75795148e-01\n",
      "  6.83614052e-01 -4.14624962e-01 -1.37349930e+00  5.63191793e-01\n",
      " -2.95487399e-01 -5.51118577e-01  6.69330781e-01 -1.29744849e-01\n",
      " -1.77823447e+00 -7.09232586e-01 -1.82069892e+00  6.02404407e-01\n",
      "  1.21124117e+00  4.71096821e-01 -7.68027536e-01  3.59898347e-01\n",
      " -1.24362428e+00  1.81922685e+00  7.92150255e-01  3.50048605e-01\n",
      "  2.62160678e-01 -5.51118577e-01 -6.01096091e-01 -4.80544761e-01\n",
      "  5.55161319e-01 -1.66069469e+00 -1.08618239e+00 -1.73750004e+00\n",
      " -1.62439656e+00 -6.40289822e-01 -1.49109980e+00  3.30053203e-01\n",
      "  1.05291650e+00 -3.04018042e-01 -4.25314231e-01 -2.27129385e-01\n",
      " -7.38198017e-01 -2.46919504e+00 -2.06518714e+00 -8.63258007e-01\n",
      " -1.87348985e-01 -4.36118997e-01 -2.06518714e+00 -2.12217401e+00\n",
      " -1.06038190e-01  5.30675562e-01 -3.42838026e-01 -2.66648903e-01\n",
      "  6.43833379e-01 -1.62439656e+00 -5.55099549e-01  7.32057606e-01\n",
      "  2.99289852e-01 -1.06038190e-01 -3.84246917e+00 -2.75861087e-01\n",
      " -1.54027188e-01 -7.90254117e+00  7.03969013e-01 -7.90254117e+00\n",
      " -2.07545814e-02 -2.07632767e+00  1.17023124e-01 -1.77823447e+00\n",
      " -1.34613980e+00  4.92784691e-01  2.88821438e-01 -6.95058537e-01\n",
      " -6.40289822e-01  3.59898347e-01 -4.23934736e+00  2.07178179e-01\n",
      "  3.54985603e-01  3.78349713e-01 -6.77347835e-02  1.65797623e-01\n",
      "  7.03969013e-01 -6.01096091e-01 -2.06518714e+00  8.93874057e-01\n",
      "  1.22164595e+00  1.16991589e-02 -3.19158491e+00 -6.01096091e-01\n",
      " -8.28805470e-02  7.04663572e-01 -2.89762847e+00 -2.18260567e+00\n",
      "  9.22200338e-01 -3.83226079e-01  5.55161319e-01  4.62288234e-01\n",
      " -1.31950894e+00 -1.87348985e-01 -1.37773625e-01 -1.13878130e-01\n",
      " -7.90254117e+00 -2.31566862e+00  1.08665036e+00 -8.97129327e-01\n",
      " -1.87348985e-01 -6.53703363e-01  4.17042426e-01 -1.86504687e+00\n",
      " -2.57868470e-02 -1.07601269e-01  6.69330781e-01  1.95116183e-01\n",
      " -1.02601406e+00 -6.27053826e-01  6.95946722e-01 -8.64924601e-01\n",
      "  1.03098129e-02  7.32057606e-01 -1.06558547e+00 -6.27053826e-01\n",
      " -2.39510846e-01 -2.87247830e+00 -1.08618239e+00 -7.68027536e-01\n",
      "  1.43519909e+00 -3.75016918e-01 -2.75861087e-01 -1.06038190e-01\n",
      "  1.02306745e+00  7.88147276e-02 -1.08618239e+00 -5.27036303e-01\n",
      "  2.72910427e-01 -4.40473805e-01 -8.14509594e-01 -8.63258007e-01\n",
      " -1.82069892e+00 -1.87348985e-01 -2.87247830e+00 -1.17764453e+00\n",
      " -1.08618239e+00  3.79311471e-01  1.03182303e-01  3.19903544e-01\n",
      " -3.08445643e-02  2.05463919e-01 -3.03384406e+00 -2.06518714e+00\n",
      " -2.87247830e+00 -4.23934736e+00  1.65797623e-01 -2.87247830e+00\n",
      " -1.96011832e+00 -2.97711259e+00 -7.38198017e-01 -1.73750004e+00\n",
      " -1.69836016e+00  2.78242276e-01 -1.62439656e+00 -7.09232586e-01\n",
      " -2.87247830e+00 -1.66069469e+00 -6.01096091e-01 -3.72975115e-01\n",
      " -2.12217401e+00 -6.01096091e-01  4.26256845e-01  6.10065734e-01\n",
      " -2.24692556e+00  3.30053203e-01  5.45039826e-01 -8.30496467e-01\n",
      "  3.90882546e-02  2.54874741e-02 -3.55910836e+00 -3.04018042e-01\n",
      "  1.15772754e-01  2.54874741e-02 -4.23934736e+00  5.25065332e-02\n",
      "  5.71158291e-01  5.55161319e-01  1.70546741e-01  7.71791006e-01\n",
      " -2.94544026e-01  6.69330781e-01 -2.79569855e-01 -2.21819512e-01\n",
      " -6.53703363e-01 -8.97129327e-01  1.04448506e-01  1.74722383e+00\n",
      " -8.14509594e-01  1.07712768e+00  5.94683931e-01  2.34769607e-01\n",
      "  1.53825207e-01 -1.29356894e+00 -5.63380748e-01 -1.91145320e+00\n",
      " -1.26828483e+00  1.23705291e+00 -3.08445643e-02 -1.62796765e+00\n",
      " -1.62439656e+00  8.89641614e-01 -4.23934736e+00 -2.57520808e-01\n",
      " -4.47041782e-01  1.65797623e-01 -1.97014214e+00 -1.55552882e+00\n",
      " -8.63258007e-01  3.90882546e-02 -1.62254122e-01 -2.28193521e-03\n",
      "  1.19010108e+00 -1.06038190e-01 -7.38198017e-01 -2.12217401e+00\n",
      " -7.90254117e+00 -7.38198017e-01 -2.07632767e+00 -1.24362428e+00\n",
      " -2.31566862e+00 -1.17309417e+00 -1.86504687e+00  7.71791006e-01\n",
      "  1.07473277e+00 -2.18260567e+00 -4.91966584e-01 -5.04550768e+00\n",
      " -2.89762847e+00 -4.80544761e-01 -1.09035318e+00 -2.33000305e+00\n",
      " -4.91966584e-01 -6.01096091e-01 -1.29356894e+00 -3.72975115e-01\n",
      " -7.09232586e-01 -5.51118577e-01 -1.69836016e+00 -1.01393818e+00\n",
      "  9.49746294e-01 -9.20793517e-02 -2.01127343e+00  6.54840538e-01\n",
      "  8.93874057e-01 -2.87247830e+00 -3.55910836e+00 -7.90254117e+00\n",
      " -1.86504687e+00 -3.72975115e-01  1.04058749e+00 -3.09398858e+00\n",
      " -6.81082587e-01  1.29441582e-01 -1.86504687e+00 -1.62439656e+00\n",
      "  1.00266132e+00 -7.90254117e+00 -2.75542202e+00 -2.65064328e+00\n",
      " -9.87194865e-01  2.23599592e-01 -3.72975115e-01 -1.26828483e+00\n",
      " -2.18260567e+00  1.04448506e-01 -1.64612753e-02 -2.87247830e+00\n",
      " -4.80544761e-01 -1.31950894e+00 -7.90254117e+00 -2.66648903e-01\n",
      " -1.48240211e+00  8.10005809e-01 -2.57520808e-01  1.35593455e-01\n",
      "  3.90882546e-02  1.40636167e+00  2.76006361e-01  6.57471430e-02\n",
      " -2.75861087e-01 -1.82069892e+00 -1.31950894e+00 -4.14624962e-01\n",
      " -7.90254117e+00 -6.03661753e-01  9.16598908e-01 -1.55552882e+00\n",
      " -8.30496467e-01  7.11582754e-01  6.80773672e-01 -5.39004947e-01\n",
      " -2.94544026e-01  1.22371398e+00  1.19010108e+00  1.01279988e-01\n",
      " -1.77823447e+00 -4.80544761e-01  1.29441582e-01 -3.55910836e+00\n",
      " -8.13556062e-02  3.90882546e-02 -7.38198017e-01 -2.06518714e+00\n",
      " -1.33540220e+00 -2.75861087e-01  1.41151143e+00  2.94069343e-01\n",
      "  1.04022023e+00 -1.86504687e+00  3.30053203e-01  8.82314993e-01\n",
      "  1.65797623e-01 -5.95984432e-01 -1.08618239e+00 -1.62439656e+00\n",
      " -1.05257566e-01 -1.82069892e+00  3.90882546e-02  1.80777266e+00\n",
      " -4.23934736e+00 -1.29356894e+00 -1.58936996e+00 -3.55910836e+00\n",
      " -2.87247830e+00 -3.95748988e-02 -1.06038190e-01 -6.01096091e-01\n",
      " -1.06038190e-01  1.17023124e-01 -8.14509594e-01  5.55161319e-01\n",
      "  3.76423419e-01 -7.90254117e+00 -6.53703363e-01  4.44434813e-01\n",
      " -2.18260567e+00 -1.55552882e+00  1.29441582e-01 -9.32188255e-01\n",
      " -1.62439656e+00  8.19335609e-01  4.26256845e-01 -1.77823447e+00\n",
      " -6.53703363e-01 -9.87194865e-01 -5.39004947e-01  6.80062315e-01\n",
      " -7.52789913e-02 -2.65064328e+00 -2.87247830e+00 -3.32990838e-01\n",
      "  6.69330781e-01 -1.06558547e+00 -1.24362428e+00  6.72920770e-01\n",
      " -2.65064328e+00 -2.05548510e+00  5.22378571e-01  1.06751343e+00\n",
      " -6.01096091e-01  9.22200338e-01 -1.31950894e+00  1.04800313e+00\n",
      " -2.58967144e+00 -3.38887507e-01  2.23599592e-01  2.78242276e-01\n",
      " -2.06518714e+00 -1.54027188e-01  5.94683931e-01 -2.18260567e+00\n",
      " -5.03520374e-01 -1.15064787e+00 -9.87194865e-01  8.16235337e-01\n",
      " -2.06518714e+00 -1.37773625e-01 -4.90716754e+00  1.35498256e+00\n",
      " -6.01096091e-01  9.49746294e-01 -1.17309417e+00  1.20072699e+00\n",
      " -1.08618239e+00 -6.01096091e-01 -1.70549300e-01 -1.62254122e-01\n",
      " -2.00136594e-01  1.35593455e-01  1.04448506e-01 -1.21780021e-01\n",
      "  8.93874057e-01 -3.55910836e+00  3.90882546e-02  2.72910427e-01\n",
      " -2.18260567e+00 -2.75861087e-01 -7.90254117e+00  4.35387134e-01\n",
      " -1.82069892e+00 -2.65064328e+00  1.28206653e-01 -3.55910836e+00\n",
      "  1.15772754e-01 -9.32188255e-01 -2.65064328e+00 -3.55910836e+00\n",
      "  3.69652017e-01 -4.23934736e+00  1.65797623e-01  3.74493407e-01\n",
      " -6.53730371e-01  4.26256845e-01  1.65797623e-01 -8.97129327e-01\n",
      " -4.54377551e-02  7.97429109e-01 -2.46919504e+00 -3.32990838e-01\n",
      " -6.01096091e-01  4.17042426e-01 -8.97129327e-01 -1.73750004e+00\n",
      " -5.15209215e-01  3.50048605e-01  3.35089661e-01 -4.54377551e-02\n",
      " -3.08445643e-02 -7.53001556e-01 -2.89762847e+00 -6.72789823e-01\n",
      " -1.77823447e+00 -8.30496467e-01  2.88821438e-01  2.78242276e-01\n",
      " -1.08618239e+00 -2.48592812e+00 -3.72975115e-01 -1.62254122e-01\n",
      " -4.90716754e+00 -3.72975115e-01 -1.55552882e+00 -1.34613980e+00\n",
      " -1.55552882e+00 -1.08202893e+00 -8.97129327e-01 -4.58085194e-01\n",
      " -1.87348985e-01 -1.86504687e+00  7.88147276e-02  7.45478255e-01\n",
      " -1.49109980e+00 -2.13089847e-01  2.56742157e-01  3.29042860e-01\n",
      "  1.32947671e+00 -1.70606654e+00  6.32703713e-01  8.93874057e-01\n",
      "  6.69330781e-01  1.01800482e+00  1.17023124e-01 -6.27053826e-01\n",
      " -8.28805470e-02 -5.27036303e-01 -1.10721249e+00 -5.28149958e-02\n",
      "  1.01291644e+00 -1.21780021e-01 -2.36270601e-02 -5.51118577e-01\n",
      " -1.62439656e+00 -3.42838026e-01 -1.62439656e+00 -2.87247830e+00\n",
      " -3.55910836e+00 -1.05242143e+00 -3.09398858e+00  3.90882546e-02\n",
      " -1.62439656e+00 -2.06518714e+00 -1.19605589e+00  7.38790445e-01\n",
      " -3.32990838e-01 -2.75542202e+00  1.41833678e+00 -1.08618239e+00\n",
      "  1.39075133e+00 -8.97129327e-01  1.15973345e+00 -9.05779503e-01\n",
      " -6.27053826e-01  4.71096821e-01  3.04483248e-01 -2.42273799e-03\n",
      " -1.46037792e+00 -3.32990838e-01  2.78242276e-01 -1.08618239e+00\n",
      " -1.19142117e+00 -2.94544026e-01  7.38790445e-01  1.19010108e+00\n",
      " -1.48487945e+00 -7.09232586e-01 -1.62439656e+00 -1.04540423e+00\n",
      "  1.25222609e+00 -1.08618239e+00 -1.06038190e-01  9.17137507e-02\n",
      " -9.68521111e-01 -2.31566862e+00  1.35593455e-01 -1.17764453e+00\n",
      " -3.84246917e+00 -4.58085194e-01 -1.43057181e+00 -3.15798328e+00\n",
      "  6.51184930e-01  1.17023124e-01 -1.49109980e+00 -1.89263146e+00\n",
      " -2.77776270e+00 -1.91145320e+00 -1.62439656e+00 -6.27053826e-01\n",
      " -2.18260567e+00  4.17042426e-01 -8.97129327e-01 -7.38198017e-01\n",
      " -1.08618239e+00 -3.69085594e-03 -1.31950894e+00 -3.00507607e+00\n",
      "  3.19903544e-01 -3.24420416e+00 -1.19605589e+00  1.51549224e+00]\n"
     ]
    }
   ],
   "source": [
    "z = model007['log_saleprice1']\n",
    "z = np.array(z)   #convert into array, which allows other indexing\n",
    "ztt = z[np.logical_not(np.isnan(z))]"
   ]
  },
  {
   "cell_type": "code",
   "execution_count": null,
   "metadata": {},
   "outputs": [],
   "source": []
  }
 ],
 "metadata": {
  "kernelspec": {
   "display_name": "Python 3",
   "language": "python",
   "name": "python3"
  },
  "language_info": {
   "codemirror_mode": {
    "name": "ipython",
    "version": 3
   },
   "file_extension": ".py",
   "mimetype": "text/x-python",
   "name": "python",
   "nbconvert_exporter": "python",
   "pygments_lexer": "ipython3",
   "version": "3.7.3"
  }
 },
 "nbformat": 4,
 "nbformat_minor": 1
}
